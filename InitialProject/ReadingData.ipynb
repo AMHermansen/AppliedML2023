{
 "cells": [
  {
   "cell_type": "markdown",
   "metadata": {},
   "source": [
    "# Reading the initial project data into Python\n",
    "\n",
    "This file will show how to read the data from the files `train.h5` and `test.h5` into Python, for training.\n",
    "The files are available at:\n",
    "\n",
    "<https://www.nbi.dk/~petersen/Teaching/ML2023/InitialProject/train.h5>\n",
    "\n",
    "<https://www.nbi.dk/~petersen/Teaching/ML2023/InitialProject/test.h5>"
   ]
  },
  {
   "cell_type": "markdown",
   "metadata": {},
   "source": [
    "We start by opening the files and loading them into a Numpy array"
   ]
  },
  {
   "cell_type": "code",
   "execution_count": 1,
   "metadata": {
    "ExecuteTime": {
     "start_time": "2023-05-18T21:44:18.467403Z",
     "end_time": "2023-05-18T21:44:25.628993Z"
    }
   },
   "outputs": [
    {
     "name": "stderr",
     "output_type": "stream",
     "text": [
      "2023-05-18 21:44:22.624362: I tensorflow/core/platform/cpu_feature_guard.cc:193] This TensorFlow binary is optimized with oneAPI Deep Neural Network Library (oneDNN) to use the following CPU instructions in performance-critical operations:  AVX2 FMA\n",
      "To enable them in other operations, rebuild TensorFlow with the appropriate compiler flags.\n",
      "2023-05-18 21:44:23.646502: W tensorflow/compiler/xla/stream_executor/platform/default/dso_loader.cc:64] Could not load dynamic library 'libnvinfer.so.7'; dlerror: libnvinfer.so.7: cannot open shared object file: No such file or directory\n",
      "2023-05-18 21:44:23.646652: W tensorflow/compiler/xla/stream_executor/platform/default/dso_loader.cc:64] Could not load dynamic library 'libnvinfer_plugin.so.7'; dlerror: libnvinfer_plugin.so.7: cannot open shared object file: No such file or directory\n",
      "2023-05-18 21:44:23.646661: W tensorflow/compiler/tf2tensorrt/utils/py_utils.cc:38] TF-TRT Warning: Cannot dlopen some TensorRT libraries. If you would like to use Nvidia GPU with TensorRT, please make sure the missing libraries mentioned above are installed properly.\n"
     ]
    }
   ],
   "source": [
    "import h5py\n",
    "import pandas as pd\n",
    "import numpy as np\n",
    "import sys\n",
    "\n",
    "from lightning.pytorch.callbacks import EarlyStopping, TQDMProgressBar\n",
    "from matplotlib import pyplot as plt\n",
    "from verstack import LGBMTuner\n",
    "from catboost import CatBoostClassifier, CatBoostRegressor\n",
    "\n",
    "DATA_DIR = \"/home/amh/Documents/Coding/GitHub/AppliedML2023/data/initial\"\n",
    "\n",
    "def load_data(name):\n",
    "    with h5py.File(f'{name}.h5', 'r') as f:\n",
    "        filename = name.split('/')[-1]\n",
    "        return pd.DataFrame(f[filename][:], dtype=np.float32)\n",
    "\n",
    "train = load_data(f'{DATA_DIR}/train')\n",
    "test  = load_data(f'{DATA_DIR}/test')"
   ]
  },
  {
   "cell_type": "markdown",
   "metadata": {},
   "source": [
    "Then we can verify the shape"
   ]
  },
  {
   "cell_type": "code",
   "execution_count": 2,
   "metadata": {
    "ExecuteTime": {
     "start_time": "2023-05-18T21:44:25.636313Z",
     "end_time": "2023-05-18T21:44:25.637824Z"
    }
   },
   "outputs": [
    {
     "name": "stdout",
     "output_type": "stream",
     "text": [
      "Shape of training data set: (162500, 166)\n",
      "Shape of test data set: (160651, 164)\n"
     ]
    }
   ],
   "source": [
    "print (f'Shape of training data set: {train.shape}')\n",
    "print (f'Shape of test data set: {test.shape}')"
   ]
  },
  {
   "cell_type": "markdown",
   "metadata": {},
   "source": [
    "As expected, the test set contains 2 columns less: `Truth` and `p_truth_E`.\n",
    "    \n",
    "Then we copy the variable list from the course website <https://www.nbi.dk/~petersen/Teaching/ML2023/InitialProject/VariableList.html>"
   ]
  },
  {
   "cell_type": "code",
   "execution_count": 3,
   "metadata": {
    "ExecuteTime": {
     "start_time": "2023-05-18T21:44:25.642567Z",
     "end_time": "2023-05-18T21:44:25.648775Z"
    }
   },
   "outputs": [],
   "source": [
    "all_variables = ['actualInteractionsPerCrossing', 'averageInteractionsPerCrossing', 'correctedActualMu', 'correctedAverageMu', 'correctedScaledActualMu', 'correctedScaledAverageMu', 'NvtxReco', 'p_nTracks', 'p_pt_track', 'p_eta', 'p_phi', 'p_charge', 'p_qOverP', 'p_z0', 'p_d0', 'p_sigmad0', 'p_d0Sig', 'p_EptRatio', 'p_dPOverP', 'p_z0theta', 'p_etaCluster', 'p_phiCluster', 'p_eCluster', 'p_rawEtaCluster', 'p_rawPhiCluster', 'p_rawECluster', 'p_eClusterLr0', 'p_eClusterLr1', 'p_eClusterLr2', 'p_eClusterLr3', 'p_etaClusterLr1', 'p_etaClusterLr2', 'p_phiClusterLr2', 'p_eAccCluster', 'p_f0Cluster', 'p_etaCalo', 'p_phiCalo', 'p_eTileGap3Cluster', 'p_cellIndexCluster', 'p_phiModCalo', 'p_etaModCalo', 'p_dPhiTH3', 'p_R12', 'p_fTG3', 'p_weta2', 'p_Reta', 'p_Rphi', 'p_Eratio', 'p_f1', 'p_f3', 'p_Rhad', 'p_Rhad1', 'p_deltaEta1', 'p_deltaPhiRescaled2', 'p_TRTPID', 'p_TRTTrackOccupancy', 'p_numberOfInnermostPixelHits', 'p_numberOfPixelHits', 'p_numberOfSCTHits', 'p_numberOfTRTHits', 'p_numberOfTRTXenonHits', 'p_chi2', 'p_ndof', 'p_SharedMuonTrack', 'p_E7x7_Lr2', 'p_E7x7_Lr3', 'p_E_Lr0_HiG', 'p_E_Lr0_LowG', 'p_E_Lr0_MedG', 'p_E_Lr1_HiG', 'p_E_Lr1_LowG', 'p_E_Lr1_MedG', 'p_E_Lr2_HiG', 'p_E_Lr2_LowG', 'p_E_Lr2_MedG', 'p_E_Lr3_HiG', 'p_E_Lr3_LowG', 'p_E_Lr3_MedG', 'p_ambiguityType', 'p_asy1', 'p_author', 'p_barys1', 'p_core57cellsEnergyCorrection', 'p_deltaEta0', 'p_deltaEta2', 'p_deltaEta3', 'p_deltaPhi0', 'p_deltaPhi1', 'p_deltaPhi2', 'p_deltaPhi3', 'p_deltaPhiFromLastMeasurement', 'p_deltaPhiRescaled0', 'p_deltaPhiRescaled1', 'p_deltaPhiRescaled3', 'p_e1152', 'p_e132', 'p_e235', 'p_e255', 'p_e2ts1', 'p_ecore', 'p_emins1', 'p_etconeCorrBitset', 'p_ethad', 'p_ethad1', 'p_f1core', 'p_f3core', 'p_maxEcell_energy', 'p_maxEcell_gain', 'p_maxEcell_time', 'p_maxEcell_x', 'p_maxEcell_y', 'p_maxEcell_z', 'p_nCells_Lr0_HiG', 'p_nCells_Lr0_LowG', 'p_nCells_Lr0_MedG', 'p_nCells_Lr1_HiG', 'p_nCells_Lr1_LowG', 'p_nCells_Lr1_MedG', 'p_nCells_Lr2_HiG', 'p_nCells_Lr2_LowG', 'p_nCells_Lr2_MedG', 'p_nCells_Lr3_HiG', 'p_nCells_Lr3_LowG', 'p_nCells_Lr3_MedG', 'p_pos', 'p_pos7', 'p_poscs1', 'p_poscs2', 'p_ptconeCorrBitset', 'p_ptconecoreTrackPtrCorrection', 'p_r33over37allcalo', 'p_topoetconeCorrBitset', 'p_topoetconecoreConeEnergyCorrection', 'p_topoetconecoreConeSCEnergyCorrection', 'p_weta1', 'p_widths1', 'p_widths2', 'p_wtots1', 'p_e233', 'p_e237', 'p_e277', 'p_e2tsts1', 'p_ehad1', 'p_emaxs1', 'p_fracs1', 'p_DeltaE', 'p_E3x5_Lr0', 'p_E3x5_Lr1', 'p_E3x5_Lr2', 'p_E3x5_Lr3', 'p_E5x7_Lr0', 'p_E5x7_Lr1', 'p_E5x7_Lr2', 'p_E5x7_Lr3', 'p_E7x11_Lr0', 'p_E7x11_Lr1', 'p_E7x11_Lr2', 'p_E7x11_Lr3', 'p_E7x7_Lr0', 'p_E7x7_Lr1' ]"
   ]
  },
  {
   "cell_type": "markdown",
   "metadata": {},
   "source": [
    "Finally, we divide the training data into data (`X`) and labels (`y`)"
   ]
  },
  {
   "cell_type": "code",
   "execution_count": 4,
   "metadata": {
    "ExecuteTime": {
     "start_time": "2023-05-18T21:44:25.651334Z",
     "end_time": "2023-05-18T21:44:25.727399Z"
    }
   },
   "outputs": [
    {
     "name": "stdout",
     "output_type": "stream",
     "text": [
      "Shape of X: (121495, 160)\n",
      "Shape of y: (121495,)\n"
     ]
    }
   ],
   "source": [
    "electrons = train['Truth']\n",
    "X = train[all_variables][electrons == 1]\n",
    "y = train[\"p_truth_E\"][electrons == 1]\n",
    "def reverse_bdt_transform(y_pred):\n",
    "    return np.exp(y_pred * 2*np.std(np.log(y)) + np.mean(np.log(y)))\n",
    "y_scaled = pd.Series((y - np.mean(y)) / (2 * np.std(y)))\n",
    "target = pd.Series((np.log(y) - np.mean(np.log(y))) / (2*np.std(np.log(y))))\n",
    "\n",
    "\n",
    "print (f'Shape of X: {X.shape}')\n",
    "print (f'Shape of y: {target.shape}')"
   ]
  },
  {
   "cell_type": "code",
   "execution_count": 5,
   "outputs": [
    {
     "data": {
      "text/plain": "<Figure size 640x480 with 1 Axes>",
      "image/png": "[encoded data removed]"
     },
     "metadata": {},
     "output_type": "display_data"
    }
   ],
   "source": [
    "plt.hist(y_scaled, bins=\"auto\", histtype=\"step\")\n",
    "plt.hist(target, bins=\"auto\", histtype=\"step\")\n",
    "plt.show()"
   ],
   "metadata": {
    "collapsed": false,
    "ExecuteTime": {
     "start_time": "2023-05-18T21:44:25.731164Z",
     "end_time": "2023-05-18T21:44:26.041373Z"
    }
   }
  },
  {
   "cell_type": "code",
   "execution_count": 6,
   "outputs": [],
   "source": [
    "# lgbm_energy_tuner = LGBMTuner(metric=\"mse\")\n",
    "# lgbm_energy_tuner.fit(X, target)"
   ],
   "metadata": {
    "collapsed": false,
    "ExecuteTime": {
     "start_time": "2023-05-18T21:44:25.995751Z",
     "end_time": "2023-05-18T21:44:26.041585Z"
    }
   }
  },
  {
   "cell_type": "code",
   "execution_count": 7,
   "outputs": [],
   "source": [
    "# lgbm_energy_tuner.fit(X, y_scaled)"
   ],
   "metadata": {
    "collapsed": false,
    "ExecuteTime": {
     "start_time": "2023-05-18T21:44:25.995859Z",
     "end_time": "2023-05-18T21:44:26.041686Z"
    }
   }
  },
  {
   "cell_type": "code",
   "execution_count": 8,
   "outputs": [],
   "source": [
    "import optuna\n",
    "from sklearn.model_selection import StratifiedKFold, train_test_split\n",
    "from catboost import Pool, cv"
   ],
   "metadata": {
    "collapsed": false,
    "ExecuteTime": {
     "start_time": "2023-05-18T21:44:25.995931Z",
     "end_time": "2023-05-18T21:44:26.041764Z"
    }
   }
  },
  {
   "cell_type": "code",
   "execution_count": 9,
   "outputs": [],
   "source": [
    "def objective(trial: optuna.Trial, feature_values: pd.DataFrame = X, target_values: pd.Series = target) -> float:\n",
    "    params = {\n",
    "        \"iterations\": trial.suggest_int(\"iterations\", 100, 1000),\n",
    "        \"learning_rate\": trial.suggest_float(\"learning_rate\", 1e-3, 1e-1, log=True),\n",
    "        \"depth\": trial.suggest_int(\"depth\", 4, 10),\n",
    "        \"l2_leaf_reg\": trial.suggest_float(\"l2_leaf_reg\", 1e-8, 100.0, log=True),\n",
    "        \"bootstrap_type\": trial.suggest_categorical(\"bootstrap_type\", [\"Bayesian\", \"Poisson\"]),\n",
    "        \"random_strength\": trial.suggest_float(\"random_strength\", 1e-8, 10.0, log=True),\n",
    "        \"bagging_temperature\": trial.suggest_float(\"bagging_temperature\", 0.0, 10.0),\n",
    "        \"od_type\": trial.suggest_categorical(\"od_type\", [\"IncToDec\", \"Iter\"]),\n",
    "        \"od_wait\": trial.suggest_int(\"od_wait\", 10, 50),\n",
    "        \"verbose\": False,\n",
    "        \"task_type\": \"GPU\",\n",
    "        \"loss_function\": \"RMSE\",\n",
    "    }\n",
    "    X_train, X_val, y_train, y_val = train_test_split(feature_values, target_values, test_size=0.2, random_state=42)\n",
    "    cat_reg = CatBoostRegressor(**params)\n",
    "    cat_reg.fit(X_train, y_train)\n",
    "    return np.sum(np.abs((cat_reg.predict(X_val) - y_val) / y_val))\n"
   ],
   "metadata": {
    "collapsed": false,
    "ExecuteTime": {
     "start_time": "2023-05-18T21:44:25.996190Z",
     "end_time": "2023-05-18T21:44:26.041853Z"
    }
   }
  },
  {
   "cell_type": "code",
   "execution_count": null,
   "outputs": [
    {
     "name": "stderr",
     "output_type": "stream",
     "text": [
      "\u001B[32m[I 2023-05-18 21:44:25,985]\u001B[0m A new study created in memory with name: no-name-68775db1-7108-4ae4-bb19-baa2d358c791\u001B[0m\n",
      "\u001B[32m[I 2023-05-18 21:44:30,579]\u001B[0m Trial 0 finished with value: 23225.406030836835 and parameters: {'iterations': 994, 'learning_rate': 0.0062105312767894655, 'depth': 4, 'l2_leaf_reg': 4.1007446185927305e-05, 'bootstrap_type': 'Bayesian', 'random_strength': 0.00010794383722683149, 'bagging_temperature': 4.828896774437545, 'od_type': 'IncToDec', 'od_wait': 23}. Best is trial 0 with value: 23225.406030836835.\u001B[0m\n",
      "\u001B[32m[I 2023-05-18 21:44:32,941]\u001B[0m Trial 1 finished with value: 21286.285315306515 and parameters: {'iterations': 368, 'learning_rate': 0.0071412807056183145, 'depth': 6, 'l2_leaf_reg': 3.6955161539358016e-05, 'bootstrap_type': 'Poisson', 'random_strength': 0.0004474518206421237, 'bagging_temperature': 8.614900832320286, 'od_type': 'IncToDec', 'od_wait': 30}. Best is trial 1 with value: 21286.285315306515.\u001B[0m\n",
      "\u001B[32m[I 2023-05-18 21:44:41,295]\u001B[0m Trial 2 finished with value: 20927.17814665471 and parameters: {'iterations': 885, 'learning_rate': 0.03781176170733248, 'depth': 8, 'l2_leaf_reg': 1.511381308206065, 'bootstrap_type': 'Poisson', 'random_strength': 0.002591571986893269, 'bagging_temperature': 0.41290794300346767, 'od_type': 'Iter', 'od_wait': 42}. Best is trial 2 with value: 20927.17814665471.\u001B[0m\n",
      "\u001B[32m[I 2023-05-18 21:44:44,120]\u001B[0m Trial 3 finished with value: 23734.27141400973 and parameters: {'iterations': 437, 'learning_rate': 0.027316220279382856, 'depth': 6, 'l2_leaf_reg': 0.5262781123739567, 'bootstrap_type': 'Bayesian', 'random_strength': 1.0618496802128716e-06, 'bagging_temperature': 5.586009502479625, 'od_type': 'Iter', 'od_wait': 45}. Best is trial 2 with value: 20927.17814665471.\u001B[0m\n",
      "\u001B[32m[I 2023-05-18 21:44:53,247]\u001B[0m Trial 4 finished with value: 22559.41534576175 and parameters: {'iterations': 978, 'learning_rate': 0.0031493954174563526, 'depth': 8, 'l2_leaf_reg': 0.0660042113363204, 'bootstrap_type': 'Bayesian', 'random_strength': 3.443617392606231e-05, 'bagging_temperature': 4.623424185722741, 'od_type': 'IncToDec', 'od_wait': 35}. Best is trial 2 with value: 20927.17814665471.\u001B[0m\n",
      "\u001B[32m[I 2023-05-18 21:44:58,126]\u001B[0m Trial 5 finished with value: 21075.385798948068 and parameters: {'iterations': 359, 'learning_rate': 0.0033095725178670576, 'depth': 9, 'l2_leaf_reg': 1.1058791330844229, 'bootstrap_type': 'Poisson', 'random_strength': 0.002278899157214355, 'bagging_temperature': 0.6615969343945516, 'od_type': 'Iter', 'od_wait': 21}. Best is trial 2 with value: 20927.17814665471.\u001B[0m\n",
      "\u001B[32m[I 2023-05-18 21:45:02,182]\u001B[0m Trial 6 finished with value: 23221.64478261999 and parameters: {'iterations': 644, 'learning_rate': 0.007290196660417087, 'depth': 6, 'l2_leaf_reg': 1.2745463885851822e-06, 'bootstrap_type': 'Bayesian', 'random_strength': 0.00015978393461088547, 'bagging_temperature': 4.080188701195939, 'od_type': 'IncToDec', 'od_wait': 31}. Best is trial 2 with value: 20927.17814665471.\u001B[0m\n",
      "\u001B[32m[I 2023-05-18 21:45:05,695]\u001B[0m Trial 7 finished with value: 21544.87014439878 and parameters: {'iterations': 331, 'learning_rate': 0.04155778709576207, 'depth': 8, 'l2_leaf_reg': 46.51704494853074, 'bootstrap_type': 'Poisson', 'random_strength': 1.855269022972265e-05, 'bagging_temperature': 8.019525113822674, 'od_type': 'IncToDec', 'od_wait': 44}. Best is trial 2 with value: 20927.17814665471.\u001B[0m\n",
      "\u001B[32m[I 2023-05-18 21:45:07,336]\u001B[0m Trial 8 finished with value: 21860.570074767635 and parameters: {'iterations': 271, 'learning_rate': 0.011983517231780639, 'depth': 5, 'l2_leaf_reg': 9.130462951048992, 'bootstrap_type': 'Poisson', 'random_strength': 1.94626060431676e-08, 'bagging_temperature': 5.50698252610667, 'od_type': 'Iter', 'od_wait': 27}. Best is trial 2 with value: 20927.17814665471.\u001B[0m\n",
      "\u001B[32m[I 2023-05-18 21:45:09,504]\u001B[0m Trial 9 finished with value: 22329.37528745269 and parameters: {'iterations': 462, 'learning_rate': 0.014001635206831847, 'depth': 4, 'l2_leaf_reg': 3.112875668884891e-07, 'bootstrap_type': 'Poisson', 'random_strength': 0.007794041190155397, 'bagging_temperature': 0.3742468989567793, 'od_type': 'Iter', 'od_wait': 15}. Best is trial 2 with value: 20927.17814665471.\u001B[0m\n",
      "\u001B[32m[I 2023-05-18 21:45:25,486]\u001B[0m Trial 10 finished with value: 21261.311638876097 and parameters: {'iterations': 720, 'learning_rate': 0.07002766045521677, 'depth': 10, 'l2_leaf_reg': 0.009042730088157192, 'bootstrap_type': 'Poisson', 'random_strength': 2.2691530704598346, 'bagging_temperature': 2.2725951092388486, 'od_type': 'Iter', 'od_wait': 50}. Best is trial 2 with value: 20927.17814665471.\u001B[0m\n",
      "\u001B[32m[I 2023-05-18 21:45:28,501]\u001B[0m Trial 11 finished with value: 23382.287383177398 and parameters: {'iterations': 130, 'learning_rate': 0.0010341144213572612, 'depth': 10, 'l2_leaf_reg': 1.0432877356819446, 'bootstrap_type': 'Poisson', 'random_strength': 0.11160563629625364, 'bagging_temperature': 0.07171026928821533, 'od_type': 'Iter', 'od_wait': 13}. Best is trial 2 with value: 20927.17814665471.\u001B[0m\n",
      "\u001B[32m[I 2023-05-18 21:45:35,483]\u001B[0m Trial 12 finished with value: 21257.13424276399 and parameters: {'iterations': 798, 'learning_rate': 0.0021989245576976386, 'depth': 8, 'l2_leaf_reg': 0.0017183728501385784, 'bootstrap_type': 'Poisson', 'random_strength': 0.01170545365197737, 'bagging_temperature': 1.6908987982619437, 'od_type': 'Iter', 'od_wait': 22}. Best is trial 2 with value: 20927.17814665471.\u001B[0m\n",
      "\u001B[32m[I 2023-05-18 21:45:43,535]\u001B[0m Trial 13 finished with value: 20681.107601293632 and parameters: {'iterations': 568, 'learning_rate': 0.02822088713766465, 'depth': 9, 'l2_leaf_reg': 0.26133778168305016, 'bootstrap_type': 'Poisson', 'random_strength': 0.003766232729849345, 'bagging_temperature': 2.4525855087826294, 'od_type': 'Iter', 'od_wait': 38}. Best is trial 13 with value: 20681.107601293632.\u001B[0m\n",
      "\u001B[32m[I 2023-05-18 21:45:55,714]\u001B[0m Trial 14 finished with value: 21294.263574033226 and parameters: {'iterations': 832, 'learning_rate': 0.0992950055827034, 'depth': 9, 'l2_leaf_reg': 0.04806207843105733, 'bootstrap_type': 'Poisson', 'random_strength': 0.33281531184168006, 'bagging_temperature': 2.6849782523823067, 'od_type': 'Iter', 'od_wait': 39}. Best is trial 13 with value: 20681.107601293632.\u001B[0m\n",
      "\u001B[32m[I 2023-05-18 21:46:00,201]\u001B[0m Trial 15 finished with value: 21514.205908773412 and parameters: {'iterations': 570, 'learning_rate': 0.02528962765877566, 'depth': 7, 'l2_leaf_reg': 98.41932521841517, 'bootstrap_type': 'Poisson', 'random_strength': 0.1009808152538091, 'bagging_temperature': 3.1712947656705675, 'od_type': 'Iter', 'od_wait': 38}. Best is trial 13 with value: 20681.107601293632.\u001B[0m\n",
      "\u001B[32m[I 2023-05-18 21:46:12,428]\u001B[0m Trial 16 finished with value: 19967.994921832083 and parameters: {'iterations': 881, 'learning_rate': 0.04382604985485282, 'depth': 9, 'l2_leaf_reg': 0.0003870146767482079, 'bootstrap_type': 'Poisson', 'random_strength': 1.4448463809733146e-06, 'bagging_temperature': 1.5125144966567525, 'od_type': 'Iter', 'od_wait': 44}. Best is trial 16 with value: 19967.994921832083.\u001B[0m\n",
      "\u001B[32m[I 2023-05-18 21:46:21,553]\u001B[0m Trial 17 finished with value: 20749.533904696716 and parameters: {'iterations': 674, 'learning_rate': 0.018844814881720705, 'depth': 9, 'l2_leaf_reg': 8.539507458056753e-05, 'bootstrap_type': 'Poisson', 'random_strength': 1.7467159535615303e-07, 'bagging_temperature': 7.338816716214884, 'od_type': 'Iter', 'od_wait': 50}. Best is trial 16 with value: 19967.994921832083.\u001B[0m\n",
      "\u001B[32m[I 2023-05-18 21:46:34,028]\u001B[0m Trial 18 finished with value: 20547.11169102703 and parameters: {'iterations': 563, 'learning_rate': 0.053673069110752335, 'depth': 10, 'l2_leaf_reg': 2.02056300732815e-08, 'bootstrap_type': 'Bayesian', 'random_strength': 1.6081568769043034e-06, 'bagging_temperature': 1.608214733641287, 'od_type': 'Iter', 'od_wait': 35}. Best is trial 16 with value: 19967.994921832083.\u001B[0m\n",
      "\u001B[32m[I 2023-05-18 21:46:37,524]\u001B[0m Trial 19 finished with value: 21408.679871447384 and parameters: {'iterations': 141, 'learning_rate': 0.05645736865881572, 'depth': 10, 'l2_leaf_reg': 2.629868549409613e-08, 'bootstrap_type': 'Bayesian', 'random_strength': 2.1210967650897634e-06, 'bagging_temperature': 1.5303600959064574, 'od_type': 'Iter', 'od_wait': 33}. Best is trial 16 with value: 19967.994921832083.\u001B[0m\n",
      "\u001B[32m[I 2023-05-18 21:46:54,716]\u001B[0m Trial 20 finished with value: 23666.114001944956 and parameters: {'iterations': 754, 'learning_rate': 0.08797043034399886, 'depth': 10, 'l2_leaf_reg': 1.000354299045661e-08, 'bootstrap_type': 'Bayesian', 'random_strength': 1.3369037774698672e-08, 'bagging_temperature': 6.447891307590947, 'od_type': 'Iter', 'od_wait': 45}. Best is trial 16 with value: 19967.994921832083.\u001B[0m\n",
      "\u001B[32m[I 2023-05-18 21:47:03,915]\u001B[0m Trial 21 finished with value: 21894.471893497062 and parameters: {'iterations': 592, 'learning_rate': 0.046814894916324935, 'depth': 9, 'l2_leaf_reg': 3.3413703409517384e-06, 'bootstrap_type': 'Bayesian', 'random_strength': 5.110180046698346e-06, 'bagging_temperature': 9.816544782540145, 'od_type': 'Iter', 'od_wait': 38}. Best is trial 16 with value: 19967.994921832083.\u001B[0m\n",
      "\u001B[32m[I 2023-05-18 21:47:11,766]\u001B[0m Trial 22 finished with value: 22028.95629943841 and parameters: {'iterations': 524, 'learning_rate': 0.028644723809495527, 'depth': 9, 'l2_leaf_reg': 0.0004094941732204046, 'bootstrap_type': 'Bayesian', 'random_strength': 2.7129315880167927e-07, 'bagging_temperature': 3.6576164369531887, 'od_type': 'Iter', 'od_wait': 41}. Best is trial 16 with value: 19967.994921832083.\u001B[0m\n",
      "\u001B[32m[I 2023-05-18 21:47:18,408]\u001B[0m Trial 23 finished with value: 21152.206105700585 and parameters: {'iterations': 877, 'learning_rate': 0.01928612952333025, 'depth': 7, 'l2_leaf_reg': 0.004308667819102583, 'bootstrap_type': 'Bayesian', 'random_strength': 2.6414247356077753e-07, 'bagging_temperature': 1.3649431145306106, 'od_type': 'Iter', 'od_wait': 36}. Best is trial 16 with value: 19967.994921832083.\u001B[0m\n",
      "\u001B[32m[I 2023-05-18 21:47:29,005]\u001B[0m Trial 24 finished with value: 21014.372987053386 and parameters: {'iterations': 466, 'learning_rate': 0.060344684788651036, 'depth': 10, 'l2_leaf_reg': 0.02774427732224041, 'bootstrap_type': 'Poisson', 'random_strength': 7.342231432142486e-06, 'bagging_temperature': 2.5745618733546025, 'od_type': 'Iter', 'od_wait': 26}. Best is trial 16 with value: 19967.994921832083.\u001B[0m\n",
      "\u001B[32m[I 2023-05-18 21:47:38,269]\u001B[0m Trial 25 finished with value: 20433.97121899391 and parameters: {'iterations': 633, 'learning_rate': 0.040411259450567505, 'depth': 9, 'l2_leaf_reg': 1.0020820010906326e-07, 'bootstrap_type': 'Poisson', 'random_strength': 0.0006233509600015753, 'bagging_temperature': 1.3075542327601761, 'od_type': 'Iter', 'od_wait': 47}. Best is trial 16 with value: 19967.994921832083.\u001B[0m\n",
      "\u001B[32m[I 2023-05-18 21:47:45,027]\u001B[0m Trial 26 finished with value: 20910.078276833596 and parameters: {'iterations': 676, 'learning_rate': 0.03954927261343129, 'depth': 8, 'l2_leaf_reg': 1.8540227634770017e-07, 'bootstrap_type': 'Bayesian', 'random_strength': 0.0004930914898412641, 'bagging_temperature': 1.1321329026881806, 'od_type': 'IncToDec', 'od_wait': 47}. Best is trial 16 with value: 19967.994921832083.\u001B[0m\n",
      "\u001B[32m[I 2023-05-18 21:48:03,817]\u001B[0m Trial 27 finished with value: 20352.539670938986 and parameters: {'iterations': 905, 'learning_rate': 0.016658371598921147, 'depth': 10, 'l2_leaf_reg': 5.724298995384817e-08, 'bootstrap_type': 'Poisson', 'random_strength': 8.394666535563953e-08, 'bagging_temperature': 3.4464129836064403, 'od_type': 'Iter', 'od_wait': 47}. Best is trial 16 with value: 19967.994921832083.\u001B[0m\n",
      "\u001B[32m[I 2023-05-18 21:48:15,398]\u001B[0m Trial 28 finished with value: 20749.811801290776 and parameters: {'iterations': 876, 'learning_rate': 0.015119965424146713, 'depth': 9, 'l2_leaf_reg': 4.471858009971352e-06, 'bootstrap_type': 'Poisson', 'random_strength': 9.827516463854678e-08, 'bagging_temperature': 4.060894316107539, 'od_type': 'Iter', 'od_wait': 47}. Best is trial 16 with value: 19967.994921832083.\u001B[0m\n",
      "\u001B[32m[I 2023-05-18 21:48:21,910]\u001B[0m Trial 29 finished with value: 21451.066855748904 and parameters: {'iterations': 966, 'learning_rate': 0.009486251764974956, 'depth': 7, 'l2_leaf_reg': 1.431607925613354e-07, 'bootstrap_type': 'Poisson', 'random_strength': 7.004018624547384e-05, 'bagging_temperature': 3.379808672089943, 'od_type': 'IncToDec', 'od_wait': 48}. Best is trial 16 with value: 19967.994921832083.\u001B[0m\n",
      "\u001B[32m[I 2023-05-18 21:48:40,919]\u001B[0m Trial 30 finished with value: 20305.35432751225 and parameters: {'iterations': 924, 'learning_rate': 0.018283360874711888, 'depth': 10, 'l2_leaf_reg': 1.640207589556073e-05, 'bootstrap_type': 'Poisson', 'random_strength': 6.676282772515714e-08, 'bagging_temperature': 2.058173798335756, 'od_type': 'Iter', 'od_wait': 43}. Best is trial 16 with value: 19967.994921832083.\u001B[0m\n",
      "\u001B[32m[I 2023-05-18 21:49:00,030]\u001B[0m Trial 31 finished with value: 20349.267226774686 and parameters: {'iterations': 928, 'learning_rate': 0.020409567847547317, 'depth': 10, 'l2_leaf_reg': 1.6246841274116298e-05, 'bootstrap_type': 'Poisson', 'random_strength': 3.291086180762782e-08, 'bagging_temperature': 2.200841944202665, 'od_type': 'Iter', 'od_wait': 42}. Best is trial 16 with value: 19967.994921832083.\u001B[0m\n",
      "\u001B[32m[I 2023-05-18 21:49:20,717]\u001B[0m Trial 32 finished with value: 20432.703325402777 and parameters: {'iterations': 997, 'learning_rate': 0.017921611382022497, 'depth': 10, 'l2_leaf_reg': 3.884196054346937e-05, 'bootstrap_type': 'Poisson', 'random_strength': 4.2639983072334206e-08, 'bagging_temperature': 2.0550099710481713, 'od_type': 'Iter', 'od_wait': 42}. Best is trial 16 with value: 19967.994921832083.\u001B[0m\n",
      "\u001B[32m[I 2023-05-18 21:49:39,472]\u001B[0m Trial 33 finished with value: 21464.156202932307 and parameters: {'iterations': 926, 'learning_rate': 0.009695322312786908, 'depth': 10, 'l2_leaf_reg': 0.00022321536914741475, 'bootstrap_type': 'Poisson', 'random_strength': 5.005073159365333e-07, 'bagging_temperature': 2.9675826810336656, 'od_type': 'Iter', 'od_wait': 43}. Best is trial 16 with value: 19967.994921832083.\u001B[0m\n",
      "\u001B[32m[I 2023-05-18 21:49:55,345]\u001B[0m Trial 34 finished with value: 21797.33231678554 and parameters: {'iterations': 812, 'learning_rate': 0.005322485504676895, 'depth': 10, 'l2_leaf_reg': 1.1338535550206621e-05, 'bootstrap_type': 'Poisson', 'random_strength': 6.895872135251643e-08, 'bagging_temperature': 4.045344579499738, 'od_type': 'Iter', 'od_wait': 40}. Best is trial 16 with value: 19967.994921832083.\u001B[0m\n",
      "\u001B[32m[I 2023-05-18 21:50:14,824]\u001B[0m Trial 35 finished with value: 20150.13634665937 and parameters: {'iterations': 937, 'learning_rate': 0.022777770906436207, 'depth': 10, 'l2_leaf_reg': 8.383689172947963e-07, 'bootstrap_type': 'Poisson', 'random_strength': 1.3594348489300281e-08, 'bagging_temperature': 4.841088741814358, 'od_type': 'IncToDec', 'od_wait': 45}. Best is trial 16 with value: 19967.994921832083.\u001B[0m\n",
      "\u001B[32m[I 2023-05-18 21:50:27,300]\u001B[0m Trial 36 finished with value: 20445.3992648663 and parameters: {'iterations': 947, 'learning_rate': 0.02300043649904776, 'depth': 9, 'l2_leaf_reg': 1.0178198901969785e-06, 'bootstrap_type': 'Poisson', 'random_strength': 1.0639344948333792e-08, 'bagging_temperature': 5.216715034075594, 'od_type': 'IncToDec', 'od_wait': 43}. Best is trial 16 with value: 19967.994921832083.\u001B[0m\n",
      "\u001B[32m[I 2023-05-18 21:50:44,983]\u001B[0m Trial 37 finished with value: 20204.970359657324 and parameters: {'iterations': 842, 'learning_rate': 0.03394796346744418, 'depth': 10, 'l2_leaf_reg': 9.0045888754617e-06, 'bootstrap_type': 'Poisson', 'random_strength': 3.0177011451868095e-08, 'bagging_temperature': 6.340433183073099, 'od_type': 'IncToDec', 'od_wait': 45}. Best is trial 16 with value: 19967.994921832083.\u001B[0m\n",
      "\u001B[32m[I 2023-05-18 21:50:56,197]\u001B[0m Trial 38 finished with value: 20191.1420058428 and parameters: {'iterations': 836, 'learning_rate': 0.03328469258491465, 'depth': 9, 'l2_leaf_reg': 0.00011605061969295506, 'bootstrap_type': 'Poisson', 'random_strength': 7.489323778256893e-07, 'bagging_temperature': 6.546632223111148, 'od_type': 'IncToDec', 'od_wait': 44}. Best is trial 16 with value: 19967.994921832083.\u001B[0m\n",
      "\u001B[32m[I 2023-05-18 21:51:03,074]\u001B[0m Trial 39 finished with value: 20559.544411874493 and parameters: {'iterations': 739, 'learning_rate': 0.032352728871564276, 'depth': 8, 'l2_leaf_reg': 0.00012002954077863807, 'bootstrap_type': 'Poisson', 'random_strength': 6.107331549674799e-07, 'bagging_temperature': 6.531538043121119, 'od_type': 'IncToDec', 'od_wait': 45}. Best is trial 16 with value: 19967.994921832083.\u001B[0m\n",
      "\u001B[32m[I 2023-05-18 21:51:11,029]\u001B[0m Trial 40 finished with value: 20616.08291449357 and parameters: {'iterations': 848, 'learning_rate': 0.03329460579549912, 'depth': 8, 'l2_leaf_reg': 0.001104453535586916, 'bootstrap_type': 'Poisson', 'random_strength': 1.2547421638637254e-05, 'bagging_temperature': 5.996792643712702, 'od_type': 'IncToDec', 'od_wait': 33}. Best is trial 16 with value: 19967.994921832083.\u001B[0m\n",
      "\u001B[32m[I 2023-05-18 21:51:21,243]\u001B[0m Trial 41 finished with value: 21107.97594632693 and parameters: {'iterations': 775, 'learning_rate': 0.012087494457235502, 'depth': 9, 'l2_leaf_reg': 1.7413635207635813e-05, 'bootstrap_type': 'Poisson', 'random_strength': 1.2434107224353846e-06, 'bagging_temperature': 7.047690794302893, 'od_type': 'IncToDec', 'od_wait': 45}. Best is trial 16 with value: 19967.994921832083.\u001B[0m\n",
      "\u001B[32m[I 2023-05-18 21:51:32,952]\u001B[0m Trial 42 finished with value: 21106.7965880189 and parameters: {'iterations': 854, 'learning_rate': 0.07450251498031919, 'depth': 9, 'l2_leaf_reg': 1.0090571812080497e-06, 'bootstrap_type': 'Poisson', 'random_strength': 3.44900066583466e-08, 'bagging_temperature': 8.019716859256727, 'od_type': 'IncToDec', 'od_wait': 50}. Best is trial 16 with value: 19967.994921832083.\u001B[0m\n",
      "\u001B[32m[I 2023-05-18 21:51:53,669]\u001B[0m Trial 43 finished with value: 19995.752748894447 and parameters: {'iterations': 989, 'learning_rate': 0.02417665734665586, 'depth': 10, 'l2_leaf_reg': 4.838597869644566e-06, 'bootstrap_type': 'Poisson', 'random_strength': 3.36549563811413e-06, 'bagging_temperature': 4.702654176964725, 'od_type': 'IncToDec', 'od_wait': 44}. Best is trial 16 with value: 19967.994921832083.\u001B[0m\n",
      "\u001B[32m[I 2023-05-18 21:51:58,867]\u001B[0m Trial 44 finished with value: 20407.234880556207 and parameters: {'iterations': 975, 'learning_rate': 0.04829065144974263, 'depth': 6, 'l2_leaf_reg': 3.285759641857359e-06, 'bootstrap_type': 'Poisson', 'random_strength': 3.3629596844043134e-05, 'bagging_temperature': 4.727718635151613, 'od_type': 'IncToDec', 'od_wait': 40}. Best is trial 16 with value: 19967.994921832083.\u001B[0m\n",
      "\u001B[32m[I 2023-05-18 21:52:02,327]\u001B[0m Trial 45 finished with value: 21117.517344657754 and parameters: {'iterations': 889, 'learning_rate': 0.03261238116559956, 'depth': 4, 'l2_leaf_reg': 5.471870347663919e-07, 'bootstrap_type': 'Poisson', 'random_strength': 3.145184326884459e-06, 'bagging_temperature': 5.80694622562671, 'od_type': 'IncToDec', 'od_wait': 45}. Best is trial 16 with value: 19967.994921832083.\u001B[0m\n",
      "\u001B[32m[I 2023-05-18 21:52:11,397]\u001B[0m Trial 46 finished with value: 20332.55165272731 and parameters: {'iterations': 998, 'learning_rate': 0.024839714784993604, 'depth': 8, 'l2_leaf_reg': 6.055496254142915e-05, 'bootstrap_type': 'Poisson', 'random_strength': 7.432463813723596e-07, 'bagging_temperature': 5.1303223079959, 'od_type': 'IncToDec', 'od_wait': 48}. Best is trial 16 with value: 19967.994921832083.\u001B[0m\n",
      "\u001B[32m[I 2023-05-18 21:52:29,033]\u001B[0m Trial 47 finished with value: 21045.529259534414 and parameters: {'iterations': 813, 'learning_rate': 0.066402416665751, 'depth': 10, 'l2_leaf_reg': 0.0004131462306476008, 'bootstrap_type': 'Poisson', 'random_strength': 0.00014396790900031745, 'bagging_temperature': 4.526605861916361, 'od_type': 'IncToDec', 'od_wait': 36}. Best is trial 16 with value: 19967.994921832083.\u001B[0m\n",
      "\u001B[32m[I 2023-05-18 21:52:38,285]\u001B[0m Trial 48 finished with value: 21135.368870943952 and parameters: {'iterations': 705, 'learning_rate': 0.012658515443913256, 'depth': 9, 'l2_leaf_reg': 5.642647495222226e-06, 'bootstrap_type': 'Poisson', 'random_strength': 2.1536665368121803e-07, 'bagging_temperature': 6.253821734773936, 'od_type': 'IncToDec', 'od_wait': 18}. Best is trial 16 with value: 19967.994921832083.\u001B[0m\n",
      "\u001B[32m[I 2023-05-18 21:52:58,526]\u001B[0m Trial 49 finished with value: 20869.488495084828 and parameters: {'iterations': 953, 'learning_rate': 0.045748311256574546, 'depth': 10, 'l2_leaf_reg': 0.00021939613053575707, 'bootstrap_type': 'Poisson', 'random_strength': 2.193270757266138e-05, 'bagging_temperature': 7.09921769208161, 'od_type': 'IncToDec', 'od_wait': 26}. Best is trial 16 with value: 19967.994921832083.\u001B[0m\n",
      "\u001B[32m[I 2023-05-18 21:53:08,491]\u001B[0m Trial 50 finished with value: 21883.50205353701 and parameters: {'iterations': 780, 'learning_rate': 0.006912234413955631, 'depth': 9, 'l2_leaf_reg': 0.003604452739642495, 'bootstrap_type': 'Poisson', 'random_strength': 2.0028610496627456e-08, 'bagging_temperature': 7.850289318594442, 'od_type': 'IncToDec', 'od_wait': 41}. Best is trial 16 with value: 19967.994921832083.\u001B[0m\n",
      "\u001B[32m[I 2023-05-18 21:53:12,784]\u001B[0m Trial 51 finished with value: 20637.22195164488 and parameters: {'iterations': 914, 'learning_rate': 0.035650048626928395, 'depth': 5, 'l2_leaf_reg': 3.435174787315095e-05, 'bootstrap_type': 'Poisson', 'random_strength': 1.1378641204551525e-07, 'bagging_temperature': 5.618504442164785, 'od_type': 'IncToDec', 'od_wait': 44}. Best is trial 16 with value: 19967.994921832083.\u001B[0m\n",
      "\u001B[32m[I 2023-05-18 21:53:30,618]\u001B[0m Trial 52 finished with value: 19989.998283641107 and parameters: {'iterations': 851, 'learning_rate': 0.02199378310471772, 'depth': 10, 'l2_leaf_reg': 1.933729843783784e-06, 'bootstrap_type': 'Poisson', 'random_strength': 4.983664515968826e-07, 'bagging_temperature': 0.7806976347043157, 'od_type': 'IncToDec', 'od_wait': 10}. Best is trial 16 with value: 19967.994921832083.\u001B[0m\n",
      "\u001B[32m[I 2023-05-18 21:53:48,228]\u001B[0m Trial 53 finished with value: 20261.738691519924 and parameters: {'iterations': 842, 'learning_rate': 0.023654622556165718, 'depth': 10, 'l2_leaf_reg': 5.022158872636561e-07, 'bootstrap_type': 'Poisson', 'random_strength': 4.1379966718612387e-07, 'bagging_temperature': 0.6931187119131229, 'od_type': 'IncToDec', 'od_wait': 18}. Best is trial 16 with value: 19967.994921832083.\u001B[0m\n",
      "\u001B[32m[I 2023-05-18 21:54:06,396]\u001B[0m Trial 54 finished with value: 20513.374898543 and parameters: {'iterations': 868, 'learning_rate': 0.02818747062871267, 'depth': 10, 'l2_leaf_reg': 1.4023407741674118e-06, 'bootstrap_type': 'Poisson', 'random_strength': 3.656764528130972e-06, 'bagging_temperature': 8.89870087998461, 'od_type': 'IncToDec', 'od_wait': 10}. Best is trial 16 with value: 19967.994921832083.\u001B[0m\n"
     ]
    }
   ],
   "source": [
    "study = optuna.create_study()\n",
    "optuna.logging.set_verbosity(optuna.logging.INFO)\n",
    "study.optimize(objective, n_trials=100)"
   ],
   "metadata": {
    "collapsed": false,
    "ExecuteTime": {
     "start_time": "2023-05-18T21:29:12.489763Z",
     "end_time": "2023-05-18T21:40:41.229405Z"
    },
    "pycharm": {
     "is_executing": true
    }
   }
  },
  {
   "cell_type": "code",
   "execution_count": null,
   "outputs": [],
   "source": [
    "X_train, X_val, y_train, y_val = train_test_split(X, target, test_size=0.2, random_state=42)\n",
    "cat_reg = CatBoostRegressor(**study.best_params, task_type=\"GPU\", verbose=0)\n",
    "cat_reg.fit(X_train, y_train)\n",
    "\n",
    "feature_importance = cat_reg.get_feature_importance(Pool(X_val.to_numpy(), label=y_val.to_numpy()))"
   ],
   "metadata": {
    "collapsed": false,
    "ExecuteTime": {
     "start_time": "2023-05-18T21:29:12.489776Z",
     "end_time": "2023-05-18T21:40:53.095914Z"
    },
    "pycharm": {
     "is_executing": true
    }
   }
  },
  {
   "cell_type": "code",
   "execution_count": null,
   "outputs": [],
   "source": [
    "top_features = sorted([(feature_score, feature) for feature, feature_score in zip(X_val.columns, feature_importance)])[::-1]\n",
    "print(top_features)\n",
    "print([t[1] for t in top_features[:20]])\n"
   ],
   "metadata": {
    "collapsed": false,
    "ExecuteTime": {
     "start_time": "2023-05-18T21:29:12.489789Z",
     "end_time": "2023-05-18T21:40:53.162674Z"
    },
    "pycharm": {
     "is_executing": true
    }
   }
  },
  {
   "cell_type": "code",
   "execution_count": null,
   "outputs": [],
   "source": [
    "import shap"
   ],
   "metadata": {
    "collapsed": false,
    "ExecuteTime": {
     "start_time": "2023-05-18T21:29:12.489803Z",
     "end_time": "2023-05-18T21:40:53.162852Z"
    },
    "pycharm": {
     "is_executing": true
    }
   }
  },
  {
   "cell_type": "code",
   "execution_count": null,
   "outputs": [],
   "source": [
    "explainer = shap.TreeExplainer(cat_reg)\n",
    "shap_values = explainer.shap_values(X_val)\n",
    "shap.summary_plot(shap_values, X_val)"
   ],
   "metadata": {
    "collapsed": false,
    "ExecuteTime": {
     "start_time": "2023-05-18T21:29:12.489818Z",
     "end_time": "2023-05-18T21:41:58.140381Z"
    },
    "pycharm": {
     "is_executing": true
    }
   }
  },
  {
   "cell_type": "code",
   "execution_count": null,
   "outputs": [],
   "source": [
    "from dataset import EnergyDataset\n",
    "from model import LightningFullyConnected\n",
    "from train import single_run\n",
    "from torch import nn\n",
    "import torch\n",
    "import lightning as L\n",
    "from torch.nn import functional as F\n",
    "\n",
    "def rel_mae(y_pred, y_true):\n",
    "    return torch.sum(torch.abs((y_pred - y_true) / y_true)) / len(y_pred)"
   ],
   "metadata": {
    "collapsed": false,
    "ExecuteTime": {
     "start_time": "2023-05-18T21:29:12.489831Z",
     "end_time": "2023-05-18T21:41:58.183624Z"
    },
    "pycharm": {
     "is_executing": true
    }
   }
  },
  {
   "cell_type": "code",
   "execution_count": null,
   "outputs": [],
   "source": [
    "batch_size = 2500\n",
    "max_epochs = 1000\n",
    "patience = 10\n",
    "refresh_rate = 10\n",
    "\n",
    "model = LightningFullyConnected(\n",
    "    in_channels=160, out_channels=1, hidden_channels=400, decode_channels=20, hidden_layers=5,\n",
    "    p_dropout=0.2, activation=nn.LeakyReLU, final_activation=None, lr=0.0003, batch_size=batch_size, optimizer=torch.optim.AdamW,\n",
    "    scheduler=torch.optim.lr_scheduler.CosineAnnealingLR, loss_fn=F.mse_loss\n",
    ")\n",
    "train_data, val_data = EnergyDataset().split_data(0.8)\n",
    "num_workers = 8\n",
    "train_dataloader = torch.utils.data.DataLoader(train_data, batch_size=batch_size, shuffle=True, num_workers=8)\n",
    "val_dataloader = torch.utils.data.DataLoader(val_data, batch_size=batch_size, shuffle=False, num_workers=8)\n",
    "\n",
    "trainer = L.Trainer(devices=1, accelerator=\"gpu\",\n",
    "                    max_epochs=max_epochs,\n",
    "                    callbacks=[EarlyStopping(monitor=\"val_loss\", mode=\"min\", patience=patience),],\n",
    "                    )\n",
    "trainer.fit(model, train_dataloader, val_dataloader)"
   ],
   "metadata": {
    "collapsed": false,
    "ExecuteTime": {
     "start_time": "2023-05-18T21:29:12.489844Z",
     "end_time": "2023-05-18T21:43:29.869335Z"
    },
    "pycharm": {
     "is_executing": true
    }
   }
  },
  {
   "cell_type": "code",
   "execution_count": null,
   "outputs": [],
   "source": [
    "print(rel_mae(model(val_data[:][0]), val_data[:][1]))\n",
    "print(torch.mean((model(val_data[:][0]) - val_data[:][1])**2))\n",
    "print(np.mean(((cat_reg.predict(X_val) - y_val)**2)))"
   ],
   "metadata": {
    "collapsed": false,
    "ExecuteTime": {
     "start_time": "2023-05-18T21:29:12.489879Z",
     "end_time": "2023-05-18T21:43:33.574725Z"
    },
    "pycharm": {
     "is_executing": true
    }
   }
  },
  {
   "cell_type": "code",
   "execution_count": null,
   "outputs": [],
   "source": [
    "fig, axs = plt.subplots(ncols=2, sharey=True)\n",
    "axs[0].scatter(val_data.reverse_transform(nn_pred := model(val_data[:][0]).detach().numpy()),\n",
    "               val_data.reverse_transform(nn_val := val_data[:][1].detach().numpy()),\n",
    "                                               label=\"nn\", color=\"b\")\n",
    "axs[1].scatter(reverse_bdt_transform(cat_reg.predict(X_val)),\n",
    "               reverse_bdt_transform(y_val),\n",
    "               label=\"cat\", color=\"r\")\n",
    "axs[0].legend()\n",
    "axs[1].legend()\n",
    "plt.show()"
   ],
   "metadata": {
    "collapsed": false,
    "ExecuteTime": {
     "start_time": "2023-05-18T20:26:26.072932Z",
     "end_time": "2023-05-18T20:26:27.918450Z"
    },
    "pycharm": {
     "is_executing": true
    }
   }
  }
 ],
 "metadata": {
  "kernelspec": {
   "display_name": "Python 3",
   "language": "python",
   "name": "python3"
  },
  "language_info": {
   "codemirror_mode": {
    "name": "ipython",
    "version": 3
   },
   "file_extension": ".py",
   "mimetype": "text/x-python",
   "name": "python",
   "nbconvert_exporter": "python",
   "pygments_lexer": "ipython3",
   "version": "3.7.6"
  }
 },
 "nbformat": 4,
 "nbformat_minor": 4
}
