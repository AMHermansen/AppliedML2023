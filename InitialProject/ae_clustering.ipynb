{
 "cells": [
  {
   "cell_type": "code",
   "execution_count": 1,
   "metadata": {
    "collapsed": true,
    "ExecuteTime": {
     "end_time": "2023-05-22T14:21:09.778601075Z",
     "start_time": "2023-05-22T14:20:54.440541660Z"
    }
   },
   "outputs": [],
   "source": [
    "import h5py\n",
    "import torch\n",
    "from torch import nn\n",
    "from torch.nn import functional as F\n",
    "from torch.optim import AdamW\n",
    "from torch.utils.data import Dataset, DataLoader\n",
    "import lightning as L\n",
    "from sklearn.preprocessing import StandardScaler, RobustScaler\n",
    "from sklearn.cluster import KMeans, DBSCAN\n",
    "import matplotlib.pyplot as plt\n",
    "\n",
    "import numpy as np\n",
    "import pandas as pd"
   ]
  },
  {
   "cell_type": "code",
   "execution_count": 2,
   "outputs": [],
   "source": [
    "DATA_DIR = \"/home/andreas/Documents/Coding/GitHub/AppliedML2023/data/initial\"\n",
    "\n",
    "def load_data(name):\n",
    "    with h5py.File(f'{name}.h5', 'r') as f:\n",
    "        filename = name.split('/')[-1]\n",
    "        return pd.DataFrame(f[filename][:], dtype=np.float32)\n",
    "\n",
    "train = load_data(f'{DATA_DIR}/train')\n",
    "test  = load_data(f'{DATA_DIR}/test')\n",
    "\n",
    "all_variables = ['actualInteractionsPerCrossing', 'averageInteractionsPerCrossing', 'correctedActualMu', 'correctedAverageMu', 'correctedScaledActualMu', 'correctedScaledAverageMu', 'NvtxReco', 'p_nTracks', 'p_pt_track', 'p_eta', 'p_phi', 'p_charge', 'p_qOverP', 'p_z0', 'p_d0', 'p_sigmad0', 'p_d0Sig', 'p_EptRatio', 'p_dPOverP', 'p_z0theta', 'p_etaCluster', 'p_phiCluster', 'p_eCluster', 'p_rawEtaCluster', 'p_rawPhiCluster', 'p_rawECluster', 'p_eClusterLr0', 'p_eClusterLr1', 'p_eClusterLr2', 'p_eClusterLr3', 'p_etaClusterLr1', 'p_etaClusterLr2', 'p_phiClusterLr2', 'p_eAccCluster', 'p_f0Cluster', 'p_etaCalo', 'p_phiCalo', 'p_eTileGap3Cluster', 'p_cellIndexCluster', 'p_phiModCalo', 'p_etaModCalo', 'p_dPhiTH3', 'p_R12', 'p_fTG3', 'p_weta2', 'p_Reta', 'p_Rphi', 'p_Eratio', 'p_f1', 'p_f3', 'p_Rhad', 'p_Rhad1', 'p_deltaEta1', 'p_deltaPhiRescaled2', 'p_TRTPID', 'p_TRTTrackOccupancy', 'p_numberOfInnermostPixelHits', 'p_numberOfPixelHits', 'p_numberOfSCTHits', 'p_numberOfTRTHits', 'p_numberOfTRTXenonHits', 'p_chi2', 'p_ndof', 'p_SharedMuonTrack', 'p_E7x7_Lr2', 'p_E7x7_Lr3', 'p_E_Lr0_HiG', 'p_E_Lr0_LowG', 'p_E_Lr0_MedG', 'p_E_Lr1_HiG', 'p_E_Lr1_LowG', 'p_E_Lr1_MedG', 'p_E_Lr2_HiG', 'p_E_Lr2_LowG', 'p_E_Lr2_MedG', 'p_E_Lr3_HiG', 'p_E_Lr3_LowG', 'p_E_Lr3_MedG', 'p_ambiguityType', 'p_asy1', 'p_author', 'p_barys1', 'p_core57cellsEnergyCorrection', 'p_deltaEta0', 'p_deltaEta2', 'p_deltaEta3', 'p_deltaPhi0', 'p_deltaPhi1', 'p_deltaPhi2', 'p_deltaPhi3', 'p_deltaPhiFromLastMeasurement', 'p_deltaPhiRescaled0', 'p_deltaPhiRescaled1', 'p_deltaPhiRescaled3', 'p_e1152', 'p_e132', 'p_e235', 'p_e255', 'p_e2ts1', 'p_ecore', 'p_emins1', 'p_etconeCorrBitset', 'p_ethad', 'p_ethad1', 'p_f1core', 'p_f3core', 'p_maxEcell_energy', 'p_maxEcell_gain', 'p_maxEcell_time', 'p_maxEcell_x', 'p_maxEcell_y', 'p_maxEcell_z', 'p_nCells_Lr0_HiG', 'p_nCells_Lr0_LowG', 'p_nCells_Lr0_MedG', 'p_nCells_Lr1_HiG', 'p_nCells_Lr1_LowG', 'p_nCells_Lr1_MedG', 'p_nCells_Lr2_HiG', 'p_nCells_Lr2_LowG', 'p_nCells_Lr2_MedG', 'p_nCells_Lr3_HiG', 'p_nCells_Lr3_LowG', 'p_nCells_Lr3_MedG', 'p_pos', 'p_pos7', 'p_poscs1', 'p_poscs2', 'p_ptconeCorrBitset', 'p_ptconecoreTrackPtrCorrection', 'p_r33over37allcalo', 'p_topoetconeCorrBitset', 'p_topoetconecoreConeEnergyCorrection', 'p_topoetconecoreConeSCEnergyCorrection', 'p_weta1', 'p_widths1', 'p_widths2', 'p_wtots1', 'p_e233', 'p_e237', 'p_e277', 'p_e2tsts1', 'p_ehad1', 'p_emaxs1', 'p_fracs1', 'p_DeltaE', 'p_E3x5_Lr0', 'p_E3x5_Lr1', 'p_E3x5_Lr2', 'p_E3x5_Lr3', 'p_E5x7_Lr0', 'p_E5x7_Lr1', 'p_E5x7_Lr2', 'p_E5x7_Lr3', 'p_E7x11_Lr0', 'p_E7x11_Lr1', 'p_E7x11_Lr2', 'p_E7x11_Lr3', 'p_E7x7_Lr0', 'p_E7x7_Lr1' ]\n",
    "\n",
    "X_test = test[all_variables]\n",
    "scaler = StandardScaler()\n",
    "test_scaled = scaler.fit_transform(X_test)\n",
    "test_scaled = pd.DataFrame(test_scaled, columns=all_variables)"
   ],
   "metadata": {
    "collapsed": false,
    "ExecuteTime": {
     "end_time": "2023-05-22T14:21:14.322559757Z",
     "start_time": "2023-05-22T14:21:12.795836628Z"
    }
   }
  },
  {
   "cell_type": "code",
   "execution_count": 25,
   "outputs": [],
   "source": [
    "def min_distance_to_center(feature_vector, centers, labels):\n",
    "    distances = []\n",
    "    for center, label in zip(centers, labels):\n",
    "        distances.append(np.max(np.abs(feature_vector[labels == label] - center)**2))\n",
    "    return np.min(distances)\n"
   ],
   "metadata": {
    "collapsed": false,
    "ExecuteTime": {
     "end_time": "2023-05-22T14:38:04.618846716Z",
     "start_time": "2023-05-22T14:38:04.569978427Z"
    }
   }
  },
  {
   "cell_type": "code",
   "execution_count": 35,
   "outputs": [],
   "source": [
    "number_of_features = len(all_variables)\n",
    "cluster_range = np.arange(3, 10, 1)\n",
    "\n",
    "all_distances = np.empty((len(cluster_range), number_of_features))"
   ],
   "metadata": {
    "collapsed": false,
    "ExecuteTime": {
     "end_time": "2023-05-22T14:52:28.235261550Z",
     "start_time": "2023-05-22T14:52:28.232302297Z"
    }
   }
  },
  {
   "cell_type": "code",
   "execution_count": 36,
   "outputs": [
    {
     "name": "stderr",
     "output_type": "stream",
     "text": [
      "11it [00:04,  2.68it/s]/tmp/ipykernel_33254/501621505.py:6: ConvergenceWarning: Number of distinct clusters (2) found smaller than n_clusters (3). Possibly due to duplicate points in X.\n",
      "  kmeans.fit(test_scaled[:, j].reshape(-1, 1))\n",
      "63it [00:25,  3.28it/s]/tmp/ipykernel_33254/501621505.py:6: ConvergenceWarning: Number of distinct clusters (2) found smaller than n_clusters (3). Possibly due to duplicate points in X.\n",
      "  kmeans.fit(test_scaled[:, j].reshape(-1, 1))\n",
      "67it [00:27,  2.60it/s]/tmp/ipykernel_33254/501621505.py:6: ConvergenceWarning: Number of distinct clusters (1) found smaller than n_clusters (3). Possibly due to duplicate points in X.\n",
      "  kmeans.fit(test_scaled[:, j].reshape(-1, 1))\n",
      "73it [00:29,  2.26it/s]/tmp/ipykernel_33254/501621505.py:6: ConvergenceWarning: Number of distinct clusters (1) found smaller than n_clusters (3). Possibly due to duplicate points in X.\n",
      "  kmeans.fit(test_scaled[:, j].reshape(-1, 1))\n",
      "76it [00:30,  2.48it/s]/tmp/ipykernel_33254/501621505.py:6: ConvergenceWarning: Number of distinct clusters (1) found smaller than n_clusters (3). Possibly due to duplicate points in X.\n",
      "  kmeans.fit(test_scaled[:, j].reshape(-1, 1))\n",
      "80it [00:31,  3.20it/s]/tmp/ipykernel_33254/501621505.py:6: ConvergenceWarning: Number of distinct clusters (2) found smaller than n_clusters (3). Possibly due to duplicate points in X.\n",
      "  kmeans.fit(test_scaled[:, j].reshape(-1, 1))\n",
      "101it [00:39,  2.23it/s]/tmp/ipykernel_33254/501621505.py:6: ConvergenceWarning: Number of distinct clusters (1) found smaller than n_clusters (3). Possibly due to duplicate points in X.\n",
      "  kmeans.fit(test_scaled[:, j].reshape(-1, 1))\n",
      "107it [00:42,  2.25it/s]/tmp/ipykernel_33254/501621505.py:6: ConvergenceWarning: Number of distinct clusters (2) found smaller than n_clusters (3). Possibly due to duplicate points in X.\n",
      "  kmeans.fit(test_scaled[:, j].reshape(-1, 1))\n",
      "113it [00:44,  2.91it/s]/tmp/ipykernel_33254/501621505.py:6: ConvergenceWarning: Number of distinct clusters (1) found smaller than n_clusters (3). Possibly due to duplicate points in X.\n",
      "  kmeans.fit(test_scaled[:, j].reshape(-1, 1))\n",
      "114it [00:44,  3.08it/s]/tmp/ipykernel_33254/501621505.py:6: ConvergenceWarning: Number of distinct clusters (2) found smaller than n_clusters (3). Possibly due to duplicate points in X.\n",
      "  kmeans.fit(test_scaled[:, j].reshape(-1, 1))\n",
      "116it [00:45,  2.72it/s]/tmp/ipykernel_33254/501621505.py:6: ConvergenceWarning: Number of distinct clusters (2) found smaller than n_clusters (3). Possibly due to duplicate points in X.\n",
      "  kmeans.fit(test_scaled[:, j].reshape(-1, 1))\n",
      "119it [00:46,  3.08it/s]/tmp/ipykernel_33254/501621505.py:6: ConvergenceWarning: Number of distinct clusters (1) found smaller than n_clusters (3). Possibly due to duplicate points in X.\n",
      "  kmeans.fit(test_scaled[:, j].reshape(-1, 1))\n",
      "122it [00:47,  3.39it/s]/tmp/ipykernel_33254/501621505.py:6: ConvergenceWarning: Number of distinct clusters (1) found smaller than n_clusters (3). Possibly due to duplicate points in X.\n",
      "  kmeans.fit(test_scaled[:, j].reshape(-1, 1))\n",
      "128it [00:49,  3.14it/s]/tmp/ipykernel_33254/501621505.py:6: ConvergenceWarning: Number of distinct clusters (1) found smaller than n_clusters (3). Possibly due to duplicate points in X.\n",
      "  kmeans.fit(test_scaled[:, j].reshape(-1, 1))\n",
      "131it [00:50,  2.86it/s]/tmp/ipykernel_33254/501621505.py:6: ConvergenceWarning: Number of distinct clusters (1) found smaller than n_clusters (3). Possibly due to duplicate points in X.\n",
      "  kmeans.fit(test_scaled[:, j].reshape(-1, 1))\n",
      "136it [00:51,  3.04it/s]/tmp/ipykernel_33254/501621505.py:6: ConvergenceWarning: Number of distinct clusters (1) found smaller than n_clusters (3). Possibly due to duplicate points in X.\n",
      "  kmeans.fit(test_scaled[:, j].reshape(-1, 1))\n",
      "160it [01:02,  2.58it/s]\n",
      "11it [00:04,  2.28it/s]/tmp/ipykernel_33254/501621505.py:6: ConvergenceWarning: Number of distinct clusters (2) found smaller than n_clusters (4). Possibly due to duplicate points in X.\n",
      "  kmeans.fit(test_scaled[:, j].reshape(-1, 1))\n",
      "63it [00:32,  2.42it/s]/tmp/ipykernel_33254/501621505.py:6: ConvergenceWarning: Number of distinct clusters (2) found smaller than n_clusters (4). Possibly due to duplicate points in X.\n",
      "  kmeans.fit(test_scaled[:, j].reshape(-1, 1))\n",
      "67it [00:34,  1.92it/s]/tmp/ipykernel_33254/501621505.py:6: ConvergenceWarning: Number of distinct clusters (1) found smaller than n_clusters (4). Possibly due to duplicate points in X.\n",
      "  kmeans.fit(test_scaled[:, j].reshape(-1, 1))\n",
      "73it [00:38,  1.83it/s]/tmp/ipykernel_33254/501621505.py:6: ConvergenceWarning: Number of distinct clusters (1) found smaller than n_clusters (4). Possibly due to duplicate points in X.\n",
      "  kmeans.fit(test_scaled[:, j].reshape(-1, 1))\n",
      "76it [00:39,  1.83it/s]/tmp/ipykernel_33254/501621505.py:6: ConvergenceWarning: Number of distinct clusters (1) found smaller than n_clusters (4). Possibly due to duplicate points in X.\n",
      "  kmeans.fit(test_scaled[:, j].reshape(-1, 1))\n",
      "80it [00:41,  2.37it/s]/tmp/ipykernel_33254/501621505.py:6: ConvergenceWarning: Number of distinct clusters (2) found smaller than n_clusters (4). Possibly due to duplicate points in X.\n",
      "  kmeans.fit(test_scaled[:, j].reshape(-1, 1))\n",
      "101it [00:51,  1.66it/s]/tmp/ipykernel_33254/501621505.py:6: ConvergenceWarning: Number of distinct clusters (1) found smaller than n_clusters (4). Possibly due to duplicate points in X.\n",
      "  kmeans.fit(test_scaled[:, j].reshape(-1, 1))\n",
      "107it [00:55,  1.56it/s]/tmp/ipykernel_33254/501621505.py:6: ConvergenceWarning: Number of distinct clusters (2) found smaller than n_clusters (4). Possibly due to duplicate points in X.\n",
      "  kmeans.fit(test_scaled[:, j].reshape(-1, 1))\n",
      "113it [00:58,  2.05it/s]/tmp/ipykernel_33254/501621505.py:6: ConvergenceWarning: Number of distinct clusters (1) found smaller than n_clusters (4). Possibly due to duplicate points in X.\n",
      "  kmeans.fit(test_scaled[:, j].reshape(-1, 1))\n",
      "114it [00:58,  2.21it/s]/tmp/ipykernel_33254/501621505.py:6: ConvergenceWarning: Number of distinct clusters (2) found smaller than n_clusters (4). Possibly due to duplicate points in X.\n",
      "  kmeans.fit(test_scaled[:, j].reshape(-1, 1))\n",
      "116it [00:59,  2.25it/s]/tmp/ipykernel_33254/501621505.py:6: ConvergenceWarning: Number of distinct clusters (2) found smaller than n_clusters (4). Possibly due to duplicate points in X.\n",
      "  kmeans.fit(test_scaled[:, j].reshape(-1, 1))\n",
      "119it [01:00,  2.45it/s]/tmp/ipykernel_33254/501621505.py:6: ConvergenceWarning: Number of distinct clusters (1) found smaller than n_clusters (4). Possibly due to duplicate points in X.\n",
      "  kmeans.fit(test_scaled[:, j].reshape(-1, 1))\n",
      "122it [01:01,  2.34it/s]/tmp/ipykernel_33254/501621505.py:6: ConvergenceWarning: Number of distinct clusters (1) found smaller than n_clusters (4). Possibly due to duplicate points in X.\n",
      "  kmeans.fit(test_scaled[:, j].reshape(-1, 1))\n",
      "123it [01:02,  2.39it/s]/tmp/ipykernel_33254/501621505.py:6: ConvergenceWarning: Number of distinct clusters (3) found smaller than n_clusters (4). Possibly due to duplicate points in X.\n",
      "  kmeans.fit(test_scaled[:, j].reshape(-1, 1))\n",
      "128it [01:04,  2.42it/s]/tmp/ipykernel_33254/501621505.py:6: ConvergenceWarning: Number of distinct clusters (1) found smaller than n_clusters (4). Possibly due to duplicate points in X.\n",
      "  kmeans.fit(test_scaled[:, j].reshape(-1, 1))\n",
      "131it [01:05,  2.28it/s]/tmp/ipykernel_33254/501621505.py:6: ConvergenceWarning: Number of distinct clusters (1) found smaller than n_clusters (4). Possibly due to duplicate points in X.\n",
      "  kmeans.fit(test_scaled[:, j].reshape(-1, 1))\n",
      "136it [01:07,  2.23it/s]/tmp/ipykernel_33254/501621505.py:6: ConvergenceWarning: Number of distinct clusters (1) found smaller than n_clusters (4). Possibly due to duplicate points in X.\n",
      "  kmeans.fit(test_scaled[:, j].reshape(-1, 1))\n",
      "160it [01:21,  1.95it/s]\n",
      "11it [00:05,  1.77it/s]/tmp/ipykernel_33254/501621505.py:6: ConvergenceWarning: Number of distinct clusters (2) found smaller than n_clusters (5). Possibly due to duplicate points in X.\n",
      "  kmeans.fit(test_scaled[:, j].reshape(-1, 1))\n",
      "56it [00:37,  1.58it/s]/tmp/ipykernel_33254/501621505.py:6: ConvergenceWarning: Number of distinct clusters (4) found smaller than n_clusters (5). Possibly due to duplicate points in X.\n",
      "  kmeans.fit(test_scaled[:, j].reshape(-1, 1))\n",
      "63it [00:40,  1.98it/s]/tmp/ipykernel_33254/501621505.py:6: ConvergenceWarning: Number of distinct clusters (2) found smaller than n_clusters (5). Possibly due to duplicate points in X.\n",
      "  kmeans.fit(test_scaled[:, j].reshape(-1, 1))\n",
      "67it [00:43,  1.57it/s]/tmp/ipykernel_33254/501621505.py:6: ConvergenceWarning: Number of distinct clusters (1) found smaller than n_clusters (5). Possibly due to duplicate points in X.\n",
      "  kmeans.fit(test_scaled[:, j].reshape(-1, 1))\n",
      "73it [00:47,  1.43it/s]/tmp/ipykernel_33254/501621505.py:6: ConvergenceWarning: Number of distinct clusters (1) found smaller than n_clusters (5). Possibly due to duplicate points in X.\n",
      "  kmeans.fit(test_scaled[:, j].reshape(-1, 1))\n",
      "76it [00:49,  1.33it/s]/tmp/ipykernel_33254/501621505.py:6: ConvergenceWarning: Number of distinct clusters (1) found smaller than n_clusters (5). Possibly due to duplicate points in X.\n",
      "  kmeans.fit(test_scaled[:, j].reshape(-1, 1))\n",
      "80it [00:51,  1.83it/s]/tmp/ipykernel_33254/501621505.py:6: ConvergenceWarning: Number of distinct clusters (2) found smaller than n_clusters (5). Possibly due to duplicate points in X.\n",
      "  kmeans.fit(test_scaled[:, j].reshape(-1, 1))\n",
      "101it [01:04,  1.19it/s]/tmp/ipykernel_33254/501621505.py:6: ConvergenceWarning: Number of distinct clusters (1) found smaller than n_clusters (5). Possibly due to duplicate points in X.\n",
      "  kmeans.fit(test_scaled[:, j].reshape(-1, 1))\n",
      "107it [01:09,  1.27it/s]/tmp/ipykernel_33254/501621505.py:6: ConvergenceWarning: Number of distinct clusters (2) found smaller than n_clusters (5). Possibly due to duplicate points in X.\n",
      "  kmeans.fit(test_scaled[:, j].reshape(-1, 1))\n",
      "113it [01:12,  1.76it/s]/tmp/ipykernel_33254/501621505.py:6: ConvergenceWarning: Number of distinct clusters (1) found smaller than n_clusters (5). Possibly due to duplicate points in X.\n",
      "  kmeans.fit(test_scaled[:, j].reshape(-1, 1))\n",
      "114it [01:13,  1.86it/s]/tmp/ipykernel_33254/501621505.py:6: ConvergenceWarning: Number of distinct clusters (2) found smaller than n_clusters (5). Possibly due to duplicate points in X.\n",
      "  kmeans.fit(test_scaled[:, j].reshape(-1, 1))\n",
      "116it [01:14,  1.85it/s]/tmp/ipykernel_33254/501621505.py:6: ConvergenceWarning: Number of distinct clusters (2) found smaller than n_clusters (5). Possibly due to duplicate points in X.\n",
      "  kmeans.fit(test_scaled[:, j].reshape(-1, 1))\n",
      "119it [01:15,  2.01it/s]/tmp/ipykernel_33254/501621505.py:6: ConvergenceWarning: Number of distinct clusters (1) found smaller than n_clusters (5). Possibly due to duplicate points in X.\n",
      "  kmeans.fit(test_scaled[:, j].reshape(-1, 1))\n",
      "122it [01:17,  2.11it/s]/tmp/ipykernel_33254/501621505.py:6: ConvergenceWarning: Number of distinct clusters (1) found smaller than n_clusters (5). Possibly due to duplicate points in X.\n",
      "  kmeans.fit(test_scaled[:, j].reshape(-1, 1))\n",
      "123it [01:17,  2.14it/s]/tmp/ipykernel_33254/501621505.py:6: ConvergenceWarning: Number of distinct clusters (3) found smaller than n_clusters (5). Possibly due to duplicate points in X.\n",
      "  kmeans.fit(test_scaled[:, j].reshape(-1, 1))\n",
      "128it [01:20,  1.92it/s]/tmp/ipykernel_33254/501621505.py:6: ConvergenceWarning: Number of distinct clusters (1) found smaller than n_clusters (5). Possibly due to duplicate points in X.\n",
      "  kmeans.fit(test_scaled[:, j].reshape(-1, 1))\n",
      "131it [01:21,  1.72it/s]/tmp/ipykernel_33254/501621505.py:6: ConvergenceWarning: Number of distinct clusters (1) found smaller than n_clusters (5). Possibly due to duplicate points in X.\n",
      "  kmeans.fit(test_scaled[:, j].reshape(-1, 1))\n",
      "136it [01:24,  1.76it/s]/tmp/ipykernel_33254/501621505.py:6: ConvergenceWarning: Number of distinct clusters (1) found smaller than n_clusters (5). Possibly due to duplicate points in X.\n",
      "  kmeans.fit(test_scaled[:, j].reshape(-1, 1))\n",
      "160it [01:43,  1.55it/s]\n",
      "11it [00:06,  1.47it/s]/tmp/ipykernel_33254/501621505.py:6: ConvergenceWarning: Number of distinct clusters (2) found smaller than n_clusters (6). Possibly due to duplicate points in X.\n",
      "  kmeans.fit(test_scaled[:, j].reshape(-1, 1))\n",
      "56it [00:58,  1.25it/s]/tmp/ipykernel_33254/501621505.py:6: ConvergenceWarning: Number of distinct clusters (4) found smaller than n_clusters (6). Possibly due to duplicate points in X.\n",
      "  kmeans.fit(test_scaled[:, j].reshape(-1, 1))\n",
      "63it [01:02,  1.57it/s]/tmp/ipykernel_33254/501621505.py:6: ConvergenceWarning: Number of distinct clusters (2) found smaller than n_clusters (6). Possibly due to duplicate points in X.\n",
      "  kmeans.fit(test_scaled[:, j].reshape(-1, 1))\n",
      "67it [01:05,  1.22it/s]/tmp/ipykernel_33254/501621505.py:6: ConvergenceWarning: Number of distinct clusters (1) found smaller than n_clusters (6). Possibly due to duplicate points in X.\n",
      "  kmeans.fit(test_scaled[:, j].reshape(-1, 1))\n",
      "73it [01:10,  1.28it/s]/tmp/ipykernel_33254/501621505.py:6: ConvergenceWarning: Number of distinct clusters (1) found smaller than n_clusters (6). Possibly due to duplicate points in X.\n",
      "  kmeans.fit(test_scaled[:, j].reshape(-1, 1))\n",
      "76it [01:12,  1.18it/s]/tmp/ipykernel_33254/501621505.py:6: ConvergenceWarning: Number of distinct clusters (1) found smaller than n_clusters (6). Possibly due to duplicate points in X.\n",
      "  kmeans.fit(test_scaled[:, j].reshape(-1, 1))\n",
      "80it [01:14,  1.57it/s]/tmp/ipykernel_33254/501621505.py:6: ConvergenceWarning: Number of distinct clusters (2) found smaller than n_clusters (6). Possibly due to duplicate points in X.\n",
      "  kmeans.fit(test_scaled[:, j].reshape(-1, 1))\n",
      "81it [01:15,  1.64it/s]"
     ]
    }
   ],
   "source": [
    "from tqdm import tqdm\n",
    "\n",
    "for i, n_clusters in enumerate(cluster_range):\n",
    "    kmeans = KMeans(n_clusters=n_clusters, random_state=42, n_init=10)\n",
    "    for j, feature in tqdm(enumerate(all_variables)):\n",
    "        kmeans.fit(test_scaled[:, j].reshape(-1, 1))\n",
    "        labels = kmeans.labels_\n",
    "        all_distances[i, j] = min_distance_to_center(test_scaled[:, j], kmeans.cluster_centers_, labels)"
   ],
   "metadata": {
    "collapsed": false,
    "ExecuteTime": {
     "end_time": "2023-05-22T15:07:50.257559247Z",
     "start_time": "2023-05-22T14:52:30.236267258Z"
    }
   }
  }
 ],
 "metadata": {
  "kernelspec": {
   "display_name": "Python 3",
   "language": "python",
   "name": "python3"
  },
  "language_info": {
   "codemirror_mode": {
    "name": "ipython",
    "version": 2
   },
   "file_extension": ".py",
   "mimetype": "text/x-python",
   "name": "python",
   "nbconvert_exporter": "python",
   "pygments_lexer": "ipython2",
   "version": "2.7.6"
  }
 },
 "nbformat": 4,
 "nbformat_minor": 0
}
