{
 "cells": [
  {
   "cell_type": "code",
   "execution_count": 2,
   "metadata": {
    "collapsed": true,
    "ExecuteTime": {
     "start_time": "2023-05-20T14:16:12.560595Z",
     "end_time": "2023-05-20T14:16:23.355145Z"
    }
   },
   "outputs": [
    {
     "name": "stderr",
     "output_type": "stream",
     "text": [
      "2023-05-20 14:16:20.403331: I tensorflow/core/platform/cpu_feature_guard.cc:193] This TensorFlow binary is optimized with oneAPI Deep Neural Network Library (oneDNN) to use the following CPU instructions in performance-critical operations:  AVX2 FMA\n",
      "To enable them in other operations, rebuild TensorFlow with the appropriate compiler flags.\n",
      "2023-05-20 14:16:22.289548: W tensorflow/compiler/xla/stream_executor/platform/default/dso_loader.cc:64] Could not load dynamic library 'libnvinfer.so.7'; dlerror: libnvinfer.so.7: cannot open shared object file: No such file or directory\n",
      "2023-05-20 14:16:22.289686: W tensorflow/compiler/xla/stream_executor/platform/default/dso_loader.cc:64] Could not load dynamic library 'libnvinfer_plugin.so.7'; dlerror: libnvinfer_plugin.so.7: cannot open shared object file: No such file or directory\n",
      "2023-05-20 14:16:22.289698: W tensorflow/compiler/tf2tensorrt/utils/py_utils.cc:38] TF-TRT Warning: Cannot dlopen some TensorRT libraries. If you would like to use Nvidia GPU with TensorRT, please make sure the missing libraries mentioned above are installed properly.\n"
     ]
    }
   ],
   "source": [
    "import copy\n",
    "import iminuit as iminuit\n",
    "import numba\n",
    "import optuna\n",
    "import pandas as pd\n",
    "from catboost import CatBoostRegressor, CatBoostClassifier\n",
    "from pytorch_lightning.callbacks import EarlyStopping\n",
    "from sklearn.model_selection import train_test_split, StratifiedKFold\n",
    "\n",
    "from model import LightningFullyConnected, BigLightningModel, FullyConnectedModel\n",
    "from verstack import LGBMTuner\n",
    "from lightgbm import LGBMClassifier\n",
    "import lightning as L\n",
    "import numpy as np\n",
    "import pandas as pd\n",
    "from dataset import ParticleDataset\n",
    "import torch\n",
    "from torch import optim\n",
    "from torch import nn\n",
    "from torch.utils.data import DataLoader\n",
    "from torch.nn import functional as F\n",
    "import pickle\n",
    "from matplotlib import pyplot as plt"
   ]
  },
  {
   "cell_type": "code",
   "execution_count": 3,
   "outputs": [
    {
     "name": "stdout",
     "output_type": "stream",
     "text": [
      "[LightGBM] [Warning] lambda_l1 is set=1, reg_alpha=0.0 will be ignored. Current value: lambda_l1=1\n",
      "[LightGBM] [Warning] num_threads is set=6, n_jobs=-1 will be ignored. Current value: num_threads=6\n",
      "[LightGBM] [Warning] bagging_fraction is set=0.9318657440733003, subsample=1.0 will be ignored. Current value: bagging_fraction=0.9318657440733003\n",
      "[LightGBM] [Warning] min_sum_hessian_in_leaf is set=0.289813314023732, min_child_weight=0.001 will be ignored. Current value: min_sum_hessian_in_leaf=0.289813314023732\n",
      "[LightGBM] [Warning] bagging_freq is set=1, subsample_freq=0 will be ignored. Current value: bagging_freq=1\n",
      "[LightGBM] [Warning] feature_fraction is set=0.8607121643836452, colsample_bytree=1.0 will be ignored. Current value: feature_fraction=0.8607121643836452\n",
      "[LightGBM] [Warning] lambda_l2 is set=0.0, reg_lambda=0.0 will be ignored. Current value: lambda_l2=0.0\n",
      "(162500,)\n",
      "(162500,)\n",
      "(162500,)\n"
     ]
    }
   ],
   "source": [
    "APP_ML_PATH = \"/home/amh/Documents/Coding/GitHub/AppliedML2023\"\n",
    "\n",
    "# NN hyperparameters\n",
    "hidden_channels = 20\n",
    "decode_channels = 6\n",
    "hidden_layers = 5\n",
    "p_dropout = 0.2\n",
    "lr = 0.0003\n",
    "activation=nn.LeakyReLU\n",
    "final_activation=nn.Sigmoid\n",
    "batch_size=2500\n",
    "optimizer=optim.AdamW\n",
    "scheduler=optim.lr_scheduler.CosineAnnealingLR\n",
    "loss_fn=F.binary_cross_entropy\n",
    "in_channels=15\n",
    "out_channels=1\n",
    "use_wandb=True\n",
    "\n",
    "#LGBM hyperparameters\n",
    "lgbm_hyper = {'task': 'train', 'learning_rate': 0.04, 'num_leaves': 158, 'feature_fraction': 0.7758858169778262, 'bagging_fraction': 0.6447189399303701, 'bagging_freq': 1, 'max_depth': -1, 'verbosity': -1, 'lambda_l1': 6.846114915590905, 'lambda_l2': 1.8801187817986014, 'min_split_gain': 0.0, 'zero_as_missing': False, 'max_bin': 255, 'min_data_in_bin': 3, 'random_state': 42, 'device_type': 'cpu', 'num_classes': 1, 'objective': 'binary', 'metric': 'binary_logloss', 'num_threads': 6, 'min_sum_hessian_in_leaf': 1.016024682289675, 'num_iterations': 519}\n",
    "\n",
    "# Catboost hyperparameters\n",
    "best_params = {'iterations': 2000, 'learning_rate': 0.03254880658174435, 'depth': 7, 'l2_leaf_reg': 7.565788405198633, 'bootstrap_type': 'Bayesian', 'random_strength': 4.118449381050315e-06, 'bagging_temperature': 0.36985835084484797, 'od_type': 'Iter', 'od_wait': 40}\n",
    "\n",
    "# NN classifier - Fully trained\n",
    "model1: LightningFullyConnected = LightningFullyConnected.load_from_checkpoint(\"../data/initial/nn_clf_final.ckpt\")\n",
    "model1.to(\"cpu\")\n",
    "\n",
    "# LGBM classifier\n",
    "lgbm = LGBMClassifier(**lgbm_hyper)\n",
    "\n",
    "# Catboost classifier\n",
    "cat_clf = CatBoostClassifier(verbose=False,\n",
    "                             task_type=\"GPU\",\n",
    "                             loss_function=\"Logloss\",\n",
    "                             eval_metric=\"Logloss\",\n",
    "                             **best_params,)\n",
    "\n",
    "# Data\n",
    "data_train = ParticleDataset()\n",
    "data_test = ParticleDataset(path=f\"{APP_ML_PATH}/data/initial/train\",\n",
    "                            target=\"ALL\")\n",
    "data_train[:][0].to(\"cpu\")\n",
    "data_train[:][1].to(\"cpu\")\n",
    "data_test = data_test[:][0].to(\"cpu\")\n",
    "\n",
    "\n",
    "lgbm.fit(data_train[:][0].detach().numpy(), data_train[:][1].detach().numpy())\n",
    "cat_clf.fit(data_train[:][0].detach().numpy(), data_train[:][1].detach().numpy())\n",
    "\n",
    "lgbm_proba = lgbm.predict_proba(data_test.detach().numpy())[:, 1]\n",
    "cat_proba = cat_clf.predict_proba(data_test.detach().numpy())[:, 1]\n",
    "nn_proba = model1(data_test).detach().numpy().reshape(-1)\n",
    "print(lgbm_proba.shape)\n",
    "print(cat_proba.shape)\n",
    "print(nn_proba.shape)"
   ],
   "metadata": {
    "collapsed": false,
    "ExecuteTime": {
     "start_time": "2023-05-20T14:16:23.354922Z",
     "end_time": "2023-05-20T14:16:52.207390Z"
    }
   }
  },
  {
   "cell_type": "code",
   "execution_count": 4,
   "outputs": [
    {
     "name": "stdout",
     "output_type": "stream",
     "text": [
      "0.9650276923076923\n",
      "0.9582461538461539\n",
      "0.9269723076923077\n"
     ]
    }
   ],
   "source": [
    "# Create ensembles\n",
    "w1 = lgbm.score(data_train[:][0].detach().numpy(), data_train[:][1].numpy())\n",
    "print(w1)\n",
    "w2 = cat_clf.score(data_train[:][0].detach().numpy(), data_train[:][1].numpy())\n",
    "print(w2)\n",
    "w3 = np.mean(np.round(model1(data_train[:][0]).detach().numpy().reshape(-1)) == data_train[:][1].numpy())\n",
    "print(w3)"
   ],
   "metadata": {
    "collapsed": false,
    "ExecuteTime": {
     "start_time": "2023-05-20T14:16:52.134707Z",
     "end_time": "2023-05-20T14:16:56.078248Z"
    }
   }
  },
  {
   "cell_type": "code",
   "execution_count": 7,
   "outputs": [],
   "source": [
    "ensemble_avg2 = (lgbm_proba + cat_proba) / 2\n",
    "ensemble_avg3 = (lgbm_proba + cat_proba + nn_proba) / 3\n",
    "ensemble_avg_w2 = (w1 * lgbm_proba + w2 * cat_proba) / (w1 + w2)\n",
    "ensemble_avg_w3 = (w1 * lgbm_proba + w2 * cat_proba + w3 * nn_proba) / (w1 + w2 + w3)"
   ],
   "metadata": {
    "collapsed": false,
    "ExecuteTime": {
     "start_time": "2023-05-20T15:15:05.106922Z",
     "end_time": "2023-05-20T15:15:05.148627Z"
    }
   }
  },
  {
   "cell_type": "code",
   "execution_count": 9,
   "outputs": [],
   "source": [
    "lgbm_results = pd.Series(lgbm_proba)\n",
    "cat_results = pd.Series(cat_proba)\n",
    "nn_results = pd.Series(nn_proba)\n",
    "ensemble_avg3_results = pd.Series(ensemble_avg3)\n",
    "ensemble_wavg3_results = pd.Series(ensemble_avg_w3)\n",
    "ensemble_avg2_results = pd.Series(ensemble_avg2)\n",
    "ensemble_wavg2_results = pd.Series(ensemble_avg_w2)\n",
    "\n",
    "SOLUTION_DIR = \"data/initial/solutions/classification\"\n",
    "\n",
    "lgbm_results.to_csv(f\"{APP_ML_PATH}/{SOLUTION_DIR}/Classification_AndreasMHermansen_LGBM.txt\")\n",
    "cat_results.to_csv(f\"{APP_ML_PATH}/{SOLUTION_DIR}/Classification_AndreasMHermansen_Catboost.txt\")\n",
    "nn_results.to_csv(f\"{APP_ML_PATH}/{SOLUTION_DIR}/Classification_AndreasMHermansen_NeuralNet.txt\")\n",
    "ensemble_avg3_results.to_csv(f\"{APP_ML_PATH}/{SOLUTION_DIR}/Classification_AndreasMHermansen_3ModelLinearEnsemble.txt\")\n",
    "ensemble_wavg3_results.to_csv(f\"{APP_ML_PATH}/{SOLUTION_DIR}/Classification_AndreasMHermansen_3ModelWeightedLinearEnsemble.txt\")\n",
    "ensemble_avg2_results.to_csv(f\"{APP_ML_PATH}/{SOLUTION_DIR}/Classification_AndreasMHermansen_2ModelLinearEnsemble.txt\")\n",
    "ensemble_wavg2_results.to_csv(f\"{APP_ML_PATH}/{SOLUTION_DIR}/Classification_AndreasMHermansen_2ModelWeightedLinearEnsemble.txt\")\n",
    "\n",
    "\n",
    "# Models ranked on validation: a2, w2, cat, lgbm, w3, a3, w4, a4, nn\n",
    "# Final models??? (a2, w3, cat)"
   ],
   "metadata": {
    "collapsed": false,
    "ExecuteTime": {
     "start_time": "2023-05-20T15:24:51.378255Z",
     "end_time": "2023-05-20T15:24:59.357206Z"
    }
   }
  }
 ],
 "metadata": {
  "kernelspec": {
   "display_name": "Python 3",
   "language": "python",
   "name": "python3"
  },
  "language_info": {
   "codemirror_mode": {
    "name": "ipython",
    "version": 2
   },
   "file_extension": ".py",
   "mimetype": "text/x-python",
   "name": "python",
   "nbconvert_exporter": "python",
   "pygments_lexer": "ipython2",
   "version": "2.7.6"
  }
 },
 "nbformat": 4,
 "nbformat_minor": 0
}
