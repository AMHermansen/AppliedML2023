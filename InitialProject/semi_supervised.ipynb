{
 "cells": [
  {
   "cell_type": "code",
   "execution_count": 1,
   "metadata": {
    "collapsed": true,
    "ExecuteTime": {
     "start_time": "2023-05-19T12:47:48.959341Z",
     "end_time": "2023-05-19T12:47:54.813955Z"
    }
   },
   "outputs": [
    {
     "name": "stderr",
     "output_type": "stream",
     "text": [
      "2023-05-19 12:47:52.501166: I tensorflow/core/platform/cpu_feature_guard.cc:193] This TensorFlow binary is optimized with oneAPI Deep Neural Network Library (oneDNN) to use the following CPU instructions in performance-critical operations:  AVX2 FMA\n",
      "To enable them in other operations, rebuild TensorFlow with the appropriate compiler flags.\n",
      "2023-05-19 12:47:53.298282: W tensorflow/compiler/xla/stream_executor/platform/default/dso_loader.cc:64] Could not load dynamic library 'libnvinfer.so.7'; dlerror: libnvinfer.so.7: cannot open shared object file: No such file or directory\n",
      "2023-05-19 12:47:53.298368: W tensorflow/compiler/xla/stream_executor/platform/default/dso_loader.cc:64] Could not load dynamic library 'libnvinfer_plugin.so.7'; dlerror: libnvinfer_plugin.so.7: cannot open shared object file: No such file or directory\n",
      "2023-05-19 12:47:53.298375: W tensorflow/compiler/tf2tensorrt/utils/py_utils.cc:38] TF-TRT Warning: Cannot dlopen some TensorRT libraries. If you would like to use Nvidia GPU with TensorRT, please make sure the missing libraries mentioned above are installed properly.\n"
     ]
    }
   ],
   "source": [
    "import copy\n",
    "\n",
    "from catboost import CatBoostClassifier\n",
    "import pickle\n",
    "import h5py\n",
    "import pandas as pd\n",
    "import numpy as np\n",
    "from sklearn.model_selection import train_test_split\n",
    "import sys\n",
    "\n",
    "from lightning.pytorch.callbacks import EarlyStopping, TQDMProgressBar\n",
    "from matplotlib import pyplot as plt\n",
    "from verstack import LGBMTuner\n",
    "from catboost import CatBoostClassifier, CatBoostRegressor\n",
    "\n",
    "\n",
    "DATA_DIR = \"/home/amh/Documents/Coding/GitHub/AppliedML2023/data/initial\"\n",
    "\n",
    "def load_data(name):\n",
    "    with h5py.File(f'{name}.h5', 'r') as f:\n",
    "        filename = name.split('/')[-1]\n",
    "        return pd.DataFrame(f[filename][:], dtype=np.float32)\n",
    "\n",
    "train = load_data(f'{DATA_DIR}/train')\n",
    "test  = load_data(f'{DATA_DIR}/test')"
   ]
  },
  {
   "cell_type": "code",
   "execution_count": 7,
   "outputs": [],
   "source": [
    "with open(\"/home/amh/Documents/Coding/GitHub/AppliedML2023/data/initial/cat_clf1.pkl\", \"rb\") as f:\n",
    "    cat_clf = pickle.load(f)\n",
    "\n",
    "with open(\"/home/amh/Documents/Coding/GitHub/AppliedML2023/data/initial/classification_variables.txt\", \"r\") as f:\n",
    "    classification_features = f.read()\n",
    "    classification_features = classification_features.replace(\" \", \"\").replace(\"\\n\", \"\").replace(\"'\", \"\").split(\",\")\n",
    "train_X = train[classification_features]\n",
    "train_y = train[\"Truth\"]\n",
    "test_X = test[classification_features]\n",
    "\n",
    "train_X, val_X, train_y, val_y = train_test_split(train_X, train_y, test_size=0.2, random_state=42)\n",
    "cat_clf.fit(train_X, train_y)\n",
    "test_y_pred = cat_clf.predict_proba(test_X)"
   ],
   "metadata": {
    "collapsed": false,
    "ExecuteTime": {
     "start_time": "2023-05-19T12:50:08.124016Z",
     "end_time": "2023-05-19T12:50:17.523084Z"
    }
   }
  },
  {
   "cell_type": "code",
   "execution_count": 8,
   "outputs": [
    {
     "data": {
      "text/plain": "<Figure size 640x480 with 1 Axes>",
      "image/png": "[encoded data removed]"
     },
     "metadata": {},
     "output_type": "display_data"
    }
   ],
   "source": [
    "plt.hist(test_y_pred[:, 1], bins=\"auto\")\n",
    "plt.show()"
   ],
   "metadata": {
    "collapsed": false,
    "ExecuteTime": {
     "start_time": "2023-05-19T12:50:22.367685Z",
     "end_time": "2023-05-19T12:50:22.593555Z"
    }
   }
  },
  {
   "cell_type": "code",
   "execution_count": 14,
   "outputs": [
    {
     "name": "stdout",
     "output_type": "stream",
     "text": [
      "0.9376923076923077\n",
      "0.9376615384615384\n"
     ]
    }
   ],
   "source": [
    "# Not improving score.\n",
    "print(cat_clf.score(val_X, val_y))\n",
    "\n",
    "threshold = 0.9999\n",
    "low_threshold = 1 - threshold\n",
    "semi_y = pd.concat([pd.Series(1.0 * (test_y_pred > threshold)[:, 1])[(test_y_pred > threshold)[:, 1]],\n",
    "                    pd.Series(1.0 * (test_y_pred > low_threshold)[:, 1])[(test_y_pred < low_threshold)[:, 1]],\n",
    "                    train_y])\n",
    "semi_X = pd.concat([test_X[(test_y_pred > threshold)[:, 1]],\n",
    "                    test_X[(test_y_pred < low_threshold)[:, 1]],\n",
    "                    train_X])\n",
    "\n",
    "semi_cat_clf = copy.deepcopy(cat_clf)\n",
    "semi_cat_clf.fit(semi_X, semi_y)\n",
    "\n"
   ],
   "metadata": {
    "collapsed": false,
    "ExecuteTime": {
     "start_time": "2023-05-19T14:04:46.554887Z",
     "end_time": "2023-05-19T14:04:56.091544Z"
    }
   }
  },
  {
   "cell_type": "code",
   "execution_count": null,
   "outputs": [],
   "source": [],
   "metadata": {
    "collapsed": false
   }
  }
 ],
 "metadata": {
  "kernelspec": {
   "display_name": "Python 3",
   "language": "python",
   "name": "python3"
  },
  "language_info": {
   "codemirror_mode": {
    "name": "ipython",
    "version": 2
   },
   "file_extension": ".py",
   "mimetype": "text/x-python",
   "name": "python",
   "nbconvert_exporter": "python",
   "pygments_lexer": "ipython2",
   "version": "2.7.6"
  }
 },
 "nbformat": 4,
 "nbformat_minor": 0
}
