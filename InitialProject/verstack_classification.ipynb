{
 "cells": [
  {
   "cell_type": "code",
   "execution_count": 2,
   "metadata": {
    "collapsed": true,
    "ExecuteTime": {
     "start_time": "2023-05-10T20:40:25.512591Z",
     "end_time": "2023-05-10T20:40:30.075764Z"
    }
   },
   "outputs": [
    {
     "name": "stderr",
     "output_type": "stream",
     "text": [
      "2023-05-10 20:40:28.553057: I tensorflow/core/platform/cpu_feature_guard.cc:193] This TensorFlow binary is optimized with oneAPI Deep Neural Network Library (oneDNN) to use the following CPU instructions in performance-critical operations:  AVX2 FMA\n",
      "To enable them in other operations, rebuild TensorFlow with the appropriate compiler flags.\n",
      "2023-05-10 20:40:29.379749: W tensorflow/compiler/xla/stream_executor/platform/default/dso_loader.cc:64] Could not load dynamic library 'libnvinfer.so.7'; dlerror: libnvinfer.so.7: cannot open shared object file: No such file or directory\n",
      "2023-05-10 20:40:29.379850: W tensorflow/compiler/xla/stream_executor/platform/default/dso_loader.cc:64] Could not load dynamic library 'libnvinfer_plugin.so.7'; dlerror: libnvinfer_plugin.so.7: cannot open shared object file: No such file or directory\n",
      "2023-05-10 20:40:29.379858: W tensorflow/compiler/tf2tensorrt/utils/py_utils.cc:38] TF-TRT Warning: Cannot dlopen some TensorRT libraries. If you would like to use Nvidia GPU with TensorRT, please make sure the missing libraries mentioned above are installed properly.\n"
     ]
    }
   ],
   "source": [
    "from initial_dataset import InitialDataset\n",
    "from verstack import LGBMTuner\n",
    "import h5py\n",
    "import pandas as pd\n",
    "import numpy as np\n",
    "from dataset import ParticleDataset"
   ]
  },
  {
   "cell_type": "code",
   "execution_count": 3,
   "outputs": [],
   "source": [
    "# Maybe old code.\n",
    "# def _load_data(name):\n",
    "#     file_extension_length = len(\".h5\")\n",
    "#     with h5py.File(f'{name}', 'r') as f:\n",
    "#         filename = name.split('/')[-1][:-file_extension_length]\n",
    "#         return pd.DataFrame(f[filename][:], dtype=np.float32)\n",
    "#\n",
    "# path=\"../data/initial/train.h5\"\n",
    "# variables_path=\"../data/initial/variables.txt\"\n",
    "# label_name='Truth'\n",
    "#\n",
    "# all_data = _load_data(path)\n",
    "# with open(variables_path, 'r') as file:\n",
    "#     variables = file.read()\n",
    "# variables = variables.replace(\"'\", \"\")\n",
    "# variables = variables.replace(\" \", \"\")\n",
    "# variables = variables.replace(\"\\n\", \"\")\n",
    "# variables = variables.split(\",\")\n",
    "# features = all_data[variables]\n",
    "# labels = all_data[label_name]\n",
    "#\n",
    "# print(features.head())\n",
    "# print(labels.head())"
   ],
   "metadata": {
    "collapsed": false,
    "ExecuteTime": {
     "start_time": "2023-05-10T20:40:30.078188Z",
     "end_time": "2023-05-10T20:40:30.080491Z"
    }
   }
  },
  {
   "cell_type": "code",
   "execution_count": 4,
   "outputs": [
    {
     "ename": "FileNotFoundError",
     "evalue": "[Errno 2] No such file or directory: '/home/amh/Documents/coding/GitHub/AppliedML2023/data/initial/variables.txt'",
     "output_type": "error",
     "traceback": [
      "\u001B[0;31m---------------------------------------------------------------------------\u001B[0m",
      "\u001B[0;31mFileNotFoundError\u001B[0m                         Traceback (most recent call last)",
      "Cell \u001B[0;32mIn[4], line 1\u001B[0m\n\u001B[0;32m----> 1\u001B[0m data \u001B[38;5;241m=\u001B[39m \u001B[43mParticleDataset\u001B[49m\u001B[43m(\u001B[49m\u001B[43mvariables_path\u001B[49m\u001B[38;5;241;43m=\u001B[39;49m\u001B[38;5;124;43m\"\u001B[39;49m\u001B[38;5;124;43m/home/amh/Documents/coding/GitHub/AppliedML2023/data/initial/variables.txt\u001B[39;49m\u001B[38;5;124;43m\"\u001B[39;49m\u001B[43m)\u001B[49m\n\u001B[1;32m      2\u001B[0m train, val \u001B[38;5;241m=\u001B[39m data\u001B[38;5;241m.\u001B[39msplit_data(\u001B[38;5;241m0.8\u001B[39m, seed\u001B[38;5;241m=\u001B[39m\u001B[38;5;241m42\u001B[39m)\n\u001B[1;32m      3\u001B[0m features, labels \u001B[38;5;241m=\u001B[39m train[:]\n",
      "File \u001B[0;32m~/Documents/Coding/GitHub/AppliedML2023/InitialProject/dataset.py:25\u001B[0m, in \u001B[0;36mParticleDataset.__init__\u001B[0;34m(self, path, variables_path, target)\u001B[0m\n\u001B[1;32m     22\u001B[0m \u001B[38;5;28;01mwith\u001B[39;00m h5py\u001B[38;5;241m.\u001B[39mFile(\u001B[38;5;124mf\u001B[39m\u001B[38;5;124m\"\u001B[39m\u001B[38;5;132;01m{\u001B[39;00mpath\u001B[38;5;132;01m}\u001B[39;00m\u001B[38;5;124m.h5\u001B[39m\u001B[38;5;124m\"\u001B[39m, \u001B[38;5;124m\"\u001B[39m\u001B[38;5;124mr\u001B[39m\u001B[38;5;124m\"\u001B[39m) \u001B[38;5;28;01mas\u001B[39;00m f:\n\u001B[1;32m     23\u001B[0m     data \u001B[38;5;241m=\u001B[39m pd\u001B[38;5;241m.\u001B[39mDataFrame(f[path\u001B[38;5;241m.\u001B[39msplit(\u001B[38;5;124m'\u001B[39m\u001B[38;5;124m/\u001B[39m\u001B[38;5;124m'\u001B[39m)[\u001B[38;5;241m-\u001B[39m\u001B[38;5;241m1\u001B[39m]][:], dtype\u001B[38;5;241m=\u001B[39mnp\u001B[38;5;241m.\u001B[39mfloat32)\n\u001B[0;32m---> 25\u001B[0m \u001B[38;5;28;01mwith\u001B[39;00m \u001B[38;5;28;43mopen\u001B[39;49m\u001B[43m(\u001B[49m\u001B[43mvariables_path\u001B[49m\u001B[43m,\u001B[49m\u001B[43m \u001B[49m\u001B[38;5;124;43m\"\u001B[39;49m\u001B[38;5;124;43mr\u001B[39;49m\u001B[38;5;124;43m\"\u001B[39;49m\u001B[43m)\u001B[49m \u001B[38;5;28;01mas\u001B[39;00m f:\n\u001B[1;32m     26\u001B[0m     \u001B[38;5;28mself\u001B[39m\u001B[38;5;241m.\u001B[39mvariables \u001B[38;5;241m=\u001B[39m f\u001B[38;5;241m.\u001B[39mread()\n\u001B[1;32m     29\u001B[0m \u001B[38;5;28mself\u001B[39m\u001B[38;5;241m.\u001B[39mvariables \u001B[38;5;241m=\u001B[39m \u001B[38;5;28mself\u001B[39m\u001B[38;5;241m.\u001B[39mvariables\u001B[38;5;241m.\u001B[39mreplace(\u001B[38;5;124m\"\u001B[39m\u001B[38;5;130;01m\\n\u001B[39;00m\u001B[38;5;124m\"\u001B[39m, \u001B[38;5;124m\"\u001B[39m\u001B[38;5;124m\"\u001B[39m)\u001B[38;5;241m.\u001B[39mreplace(\u001B[38;5;124m\"\u001B[39m\u001B[38;5;124m \u001B[39m\u001B[38;5;124m\"\u001B[39m, \u001B[38;5;124m\"\u001B[39m\u001B[38;5;124m\"\u001B[39m)\u001B[38;5;241m.\u001B[39mreplace(\u001B[38;5;124m\"\u001B[39m\u001B[38;5;124m'\u001B[39m\u001B[38;5;124m\"\u001B[39m, \u001B[38;5;124m\"\u001B[39m\u001B[38;5;124m\"\u001B[39m)\n",
      "\u001B[0;31mFileNotFoundError\u001B[0m: [Errno 2] No such file or directory: '/home/amh/Documents/coding/GitHub/AppliedML2023/data/initial/variables.txt'"
     ]
    }
   ],
   "source": [
    "data = ParticleDataset(variables_path=\"/home/amh/Documents/coding/GitHub/AppliedML2023/data/initial/variables.txt\")\n",
    "train, val = data.split_data(0.8, seed=42)\n",
    "features, labels = train[:]\n",
    "features = features.numpy()\n",
    "labels = labels.numpy()\n",
    "features = pd.DataFrame(features, columns=data.variables)\n",
    "labels = pd.Series(labels)\n",
    "\n",
    "print(features.head())"
   ],
   "metadata": {
    "collapsed": false,
    "ExecuteTime": {
     "start_time": "2023-05-08T21:31:07.791272Z",
     "end_time": "2023-05-08T21:31:09.295598Z"
    }
   }
  },
  {
   "cell_type": "code",
   "execution_count": null,
   "outputs": [],
   "source": [],
   "metadata": {
    "collapsed": false
   }
  },
  {
   "cell_type": "code",
   "execution_count": null,
   "outputs": [],
   "source": [
    "tuner = LGBMTuner(metric=\"accuracy\",\n",
    "                  device_type=\"cpu\")\n",
    "tuner.fit(features, labels)"
   ],
   "metadata": {
    "collapsed": false,
    "ExecuteTime": {
     "start_time": "2023-05-08T21:31:26.656750Z",
     "end_time": "2023-05-08T22:00:50.159479Z"
    }
   }
  },
  {
   "cell_type": "code",
   "execution_count": null,
   "outputs": [],
   "source": [
    "feature_importance_list = [(tuner.feature_importances[i], features.columns[i]) for i in range(len(features.columns))]\n",
    "top_features = [tup[1] for tup in sorted(feature_importance_list)[::-1]]\n",
    "print(top_features[:15])"
   ],
   "metadata": {
    "collapsed": false,
    "ExecuteTime": {
     "start_time": "2023-05-08T22:02:53.792320Z",
     "end_time": "2023-05-08T22:02:53.837948Z"
    }
   }
  },
  {
   "cell_type": "code",
   "execution_count": null,
   "outputs": [],
   "source": [
    "features_reduced = features[top_features]\n",
    "tuner_reduced = LGBMTuner(metric=\"accuracy\")\n",
    "tuner_reduced.fit(features_reduced, labels)"
   ],
   "metadata": {
    "collapsed": false,
    "ExecuteTime": {
     "start_time": "2023-05-08T22:02:57.238589Z",
     "end_time": "2023-05-08T22:27:29.255482Z"
    }
   }
  },
  {
   "cell_type": "code",
   "execution_count": null,
   "outputs": [],
   "source": [
    "import pickle\n",
    "\n",
    "with open(\"/home/amh/Documents/Coding/GitHub/AppliedML2023/data/initial/lgbm_tuner.pickle\", \"wb\") as handle:\n",
    "    pickle.dump(tuner_reduced, handle, protocol=pickle.HIGHEST_PROTOCOL)\n",
    "\n",
    "with open(\"/home/amh/Documents/Coding/GitHub/AppliedML2023/data/initial/lgbm_tuner_full.pickle\", \"wb\") as handle:\n",
    "    pickle.dump(tuner, handle, protocol=pickle.HIGHEST_PROTOCOL)\n",
    "print(\"done\")"
   ],
   "metadata": {
    "collapsed": false,
    "ExecuteTime": {
     "start_time": "2023-05-08T22:28:17.356211Z",
     "end_time": "2023-05-08T22:28:17.482184Z"
    }
   }
  }
 ],
 "metadata": {
  "kernelspec": {
   "display_name": "Python 3",
   "language": "python",
   "name": "python3"
  },
  "language_info": {
   "codemirror_mode": {
    "name": "ipython",
    "version": 2
   },
   "file_extension": ".py",
   "mimetype": "text/x-python",
   "name": "python",
   "nbconvert_exporter": "python",
   "pygments_lexer": "ipython2",
   "version": "2.7.6"
  }
 },
 "nbformat": 4,
 "nbformat_minor": 0
}
